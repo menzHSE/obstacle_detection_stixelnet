{
 "cells": [
  {
   "cell_type": "code",
   "execution_count": 1,
   "id": "50c748aa-1b9e-40f2-9aac-6dfbf6e9f7e5",
   "metadata": {},
   "outputs": [
    {
     "name": "stderr",
     "output_type": "stream",
     "text": [
      "2022-03-11 19:03:09.012061: I tensorflow/stream_executor/platform/default/dso_loader.cc:49] Successfully opened dynamic library libcudart.so.10.1\n"
     ]
    }
   ],
   "source": [
    "from __future__ import print_function\n",
    "import os\n",
    "import sys\n",
    "import cv2\n",
    "from matplotlib import pyplot as plt\n",
    "import numpy as np\n",
    "\n",
    "from local_config import CURRENT_DIR\n",
    "sys.path.append(os.path.join(CURRENT_DIR, \"..\"))\n",
    "\n",
    "try:\n",
    "    from config import Config\n",
    "    from data_loader import WaymoStixelDataset\n",
    "except:\n",
    "    print(\"failed to load module\")\n",
    "    \n",
    "from albumentations import (\n",
    "    Resize,\n",
    "    Compose,\n",
    "    CLAHE,\n",
    "    HueSaturationValue,\n",
    "    RandomBrightness,\n",
    "    RandomContrast,\n",
    "    RandomGamma,\n",
    "    ToFloat,\n",
    "    Normalize,\n",
    "    GaussNoise,\n",
    "    RandomShadow,\n",
    "    RandomRain,\n",
    ")\n",
    "\n",
    "import utility\n",
    "import importlib\n",
    "from models.stixel_net import build_stixel_net_inceptionV3\n",
    "\n",
    "# TensorFlow\n",
    "from tensorflow.keras import losses\n",
    "from tensorflow.keras import optimizers\n",
    "from tensorflow.keras.callbacks import (\n",
    "    ModelCheckpoint,\n",
    "    ReduceLROnPlateau,\n",
    "    EarlyStopping,\n",
    ")"
   ]
  },
  {
   "cell_type": "code",
   "execution_count": 2,
   "id": "d25a964d-1f24-4f61-b539-cb3aa59867da",
   "metadata": {},
   "outputs": [
    {
     "name": "stdout",
     "output_type": "stream",
     "text": [
      "\n",
      "Configurations:\n",
      "CURRENT_DIR                    /home/menz/StixelNet/obstacle_detection_stixelnet\n",
      "DATA_PATH                      /home/menz/StixelNet/obstacle_detection_stixelnet/data/StixelNet_Waymo\n",
      "GROUND_TRUTH_PATH              /home/menz/StixelNet/obstacle_detection_stixelnet/data/StixelNet_Waymo/waymo_train.txt\n",
      "NUM_EPOCHS                     50\n",
      "SAVED_MODELS_PATH              saved_models\n",
      "\n",
      "\n"
     ]
    }
   ],
   "source": [
    "dt_config = Config()\n",
    "dt_config.display()"
   ]
  },
  {
   "cell_type": "code",
   "execution_count": 3,
   "id": "1ae3ba3f-2084-47c9-82ab-a75d4e12d3a2",
   "metadata": {},
   "outputs": [
    {
     "name": "stderr",
     "output_type": "stream",
     "text": [
      "/home/menz/miniconda3/envs/StixelNet-TF/lib/python3.9/site-packages/albumentations/augmentations/transforms.py:1826: FutureWarning: This class has been deprecated. Please use RandomBrightnessContrast\n",
      "  warnings.warn(\n",
      "/home/menz/miniconda3/envs/StixelNet-TF/lib/python3.9/site-packages/albumentations/augmentations/transforms.py:1800: FutureWarning: This class has been deprecated. Please use RandomBrightnessContrast\n",
      "  warnings.warn(\n"
     ]
    }
   ],
   "source": [
    "## Train and Val set\n",
    "\n",
    "\n",
    "train_aug = Compose(\n",
    "    [\n",
    "        GaussNoise(p=1.0),\n",
    "        RandomShadow(p=0.5),\n",
    "        RandomRain(p=0.5, rain_type=\"drizzle\"),\n",
    "        RandomContrast(limit=0.2, p=0.5),\n",
    "        RandomGamma(gamma_limit=(80, 120), p=0.5),\n",
    "        RandomBrightness(limit=0.2, p=0.5),\n",
    "        HueSaturationValue(\n",
    "            hue_shift_limit=5, sat_shift_limit=20, val_shift_limit=10, p=0.5\n",
    "        ),\n",
    "        CLAHE(p=0.5, clip_limit=2.0),\n",
    "        Normalize(p=1.0),\n",
    "    ]\n",
    ")\n",
    "    \n",
    "# AUGMENTATIONS DISABLED\n",
    "train_set = WaymoStixelDataset(\n",
    "        data_path=dt_config.DATA_PATH,\n",
    "        ground_truth_path=os.path.join(dt_config.DATA_PATH, \"waymo_train.txt\"),\n",
    "        batch_size=8,\n",
    "        transform=None,\n",
    "        customized_transform=utility.HorizontalFlip(p=0.5),\n",
    "    )\n",
    "\n",
    "\n",
    "\n",
    "\n",
    "val_aug = Compose([Normalize(p=1.0)])\n",
    "val_set = WaymoStixelDataset(\n",
    "        data_path=dt_config.DATA_PATH,\n",
    "        ground_truth_path=os.path.join(dt_config.DATA_PATH, \"waymo_val.txt\"),\n",
    "        transform=None,\n",
    "    )\n"
   ]
  },
  {
   "cell_type": "code",
   "execution_count": 4,
   "id": "3376a5a0-9abd-4698-9190-766b3823b8d4",
   "metadata": {},
   "outputs": [
    {
     "name": "stderr",
     "output_type": "stream",
     "text": [
      "2022-03-11 19:03:16.089439: I tensorflow/compiler/jit/xla_cpu_device.cc:41] Not creating XLA devices, tf_xla_enable_xla_devices not set\n",
      "2022-03-11 19:03:16.097075: I tensorflow/stream_executor/platform/default/dso_loader.cc:49] Successfully opened dynamic library libcuda.so.1\n",
      "2022-03-11 19:03:16.152102: I tensorflow/stream_executor/cuda/cuda_gpu_executor.cc:941] successful NUMA node read from SysFS had negative value (-1), but there must be at least one NUMA node, so returning NUMA node zero\n",
      "2022-03-11 19:03:16.152388: I tensorflow/core/common_runtime/gpu/gpu_device.cc:1720] Found device 0 with properties: \n",
      "pciBusID: 0000:01:00.0 name: NVIDIA GeForce GTX TITAN X computeCapability: 5.2\n",
      "coreClock: 1.076GHz coreCount: 24 deviceMemorySize: 11.92GiB deviceMemoryBandwidth: 313.37GiB/s\n",
      "2022-03-11 19:03:16.152413: I tensorflow/stream_executor/platform/default/dso_loader.cc:49] Successfully opened dynamic library libcudart.so.10.1\n",
      "2022-03-11 19:03:16.186908: I tensorflow/stream_executor/platform/default/dso_loader.cc:49] Successfully opened dynamic library libcublas.so.10\n",
      "2022-03-11 19:03:16.187027: I tensorflow/stream_executor/platform/default/dso_loader.cc:49] Successfully opened dynamic library libcublasLt.so.10\n",
      "2022-03-11 19:03:16.206330: I tensorflow/stream_executor/platform/default/dso_loader.cc:49] Successfully opened dynamic library libcufft.so.10\n",
      "2022-03-11 19:03:16.211478: I tensorflow/stream_executor/platform/default/dso_loader.cc:49] Successfully opened dynamic library libcurand.so.10\n",
      "2022-03-11 19:03:16.248023: I tensorflow/stream_executor/platform/default/dso_loader.cc:49] Successfully opened dynamic library libcusolver.so.10\n",
      "2022-03-11 19:03:16.253211: I tensorflow/stream_executor/platform/default/dso_loader.cc:49] Successfully opened dynamic library libcusparse.so.10\n",
      "2022-03-11 19:03:16.315436: I tensorflow/stream_executor/platform/default/dso_loader.cc:49] Successfully opened dynamic library libcudnn.so.7\n",
      "2022-03-11 19:03:16.315640: I tensorflow/stream_executor/cuda/cuda_gpu_executor.cc:941] successful NUMA node read from SysFS had negative value (-1), but there must be at least one NUMA node, so returning NUMA node zero\n",
      "2022-03-11 19:03:16.316056: I tensorflow/stream_executor/cuda/cuda_gpu_executor.cc:941] successful NUMA node read from SysFS had negative value (-1), but there must be at least one NUMA node, so returning NUMA node zero\n",
      "2022-03-11 19:03:16.316304: I tensorflow/core/common_runtime/gpu/gpu_device.cc:1862] Adding visible gpu devices: 0\n",
      "2022-03-11 19:03:16.317105: I tensorflow/core/platform/cpu_feature_guard.cc:142] This TensorFlow binary is optimized with oneAPI Deep Neural Network Library (oneDNN) to use the following CPU instructions in performance-critical operations:  SSE4.1 SSE4.2 AVX\n",
      "To enable them in other operations, rebuild TensorFlow with the appropriate compiler flags.\n",
      "2022-03-11 19:03:16.317622: I tensorflow/stream_executor/cuda/cuda_gpu_executor.cc:941] successful NUMA node read from SysFS had negative value (-1), but there must be at least one NUMA node, so returning NUMA node zero\n",
      "2022-03-11 19:03:16.317912: I tensorflow/core/common_runtime/gpu/gpu_device.cc:1720] Found device 0 with properties: \n",
      "pciBusID: 0000:01:00.0 name: NVIDIA GeForce GTX TITAN X computeCapability: 5.2\n",
      "coreClock: 1.076GHz coreCount: 24 deviceMemorySize: 11.92GiB deviceMemoryBandwidth: 313.37GiB/s\n",
      "2022-03-11 19:03:16.317959: I tensorflow/stream_executor/platform/default/dso_loader.cc:49] Successfully opened dynamic library libcudart.so.10.1\n",
      "2022-03-11 19:03:16.318009: I tensorflow/stream_executor/platform/default/dso_loader.cc:49] Successfully opened dynamic library libcublas.so.10\n",
      "2022-03-11 19:03:16.318052: I tensorflow/stream_executor/platform/default/dso_loader.cc:49] Successfully opened dynamic library libcublasLt.so.10\n",
      "2022-03-11 19:03:16.318093: I tensorflow/stream_executor/platform/default/dso_loader.cc:49] Successfully opened dynamic library libcufft.so.10\n",
      "2022-03-11 19:03:16.318131: I tensorflow/stream_executor/platform/default/dso_loader.cc:49] Successfully opened dynamic library libcurand.so.10\n",
      "2022-03-11 19:03:16.318169: I tensorflow/stream_executor/platform/default/dso_loader.cc:49] Successfully opened dynamic library libcusolver.so.10\n",
      "2022-03-11 19:03:16.318206: I tensorflow/stream_executor/platform/default/dso_loader.cc:49] Successfully opened dynamic library libcusparse.so.10\n",
      "2022-03-11 19:03:16.318241: I tensorflow/stream_executor/platform/default/dso_loader.cc:49] Successfully opened dynamic library libcudnn.so.7\n",
      "2022-03-11 19:03:16.318342: I tensorflow/stream_executor/cuda/cuda_gpu_executor.cc:941] successful NUMA node read from SysFS had negative value (-1), but there must be at least one NUMA node, so returning NUMA node zero\n",
      "2022-03-11 19:03:16.318658: I tensorflow/stream_executor/cuda/cuda_gpu_executor.cc:941] successful NUMA node read from SysFS had negative value (-1), but there must be at least one NUMA node, so returning NUMA node zero\n",
      "2022-03-11 19:03:16.318913: I tensorflow/core/common_runtime/gpu/gpu_device.cc:1862] Adding visible gpu devices: 0\n",
      "2022-03-11 19:03:16.319408: I tensorflow/stream_executor/platform/default/dso_loader.cc:49] Successfully opened dynamic library libcudart.so.10.1\n",
      "2022-03-11 19:03:17.451559: I tensorflow/core/common_runtime/gpu/gpu_device.cc:1261] Device interconnect StreamExecutor with strength 1 edge matrix:\n",
      "2022-03-11 19:03:17.451591: I tensorflow/core/common_runtime/gpu/gpu_device.cc:1267]      0 \n",
      "2022-03-11 19:03:17.451599: I tensorflow/core/common_runtime/gpu/gpu_device.cc:1280] 0:   N \n",
      "2022-03-11 19:03:17.452272: I tensorflow/stream_executor/cuda/cuda_gpu_executor.cc:941] successful NUMA node read from SysFS had negative value (-1), but there must be at least one NUMA node, so returning NUMA node zero\n",
      "2022-03-11 19:03:17.452479: I tensorflow/stream_executor/cuda/cuda_gpu_executor.cc:941] successful NUMA node read from SysFS had negative value (-1), but there must be at least one NUMA node, so returning NUMA node zero\n",
      "2022-03-11 19:03:17.452657: I tensorflow/stream_executor/cuda/cuda_gpu_executor.cc:941] successful NUMA node read from SysFS had negative value (-1), but there must be at least one NUMA node, so returning NUMA node zero\n",
      "2022-03-11 19:03:17.452790: I tensorflow/core/common_runtime/gpu/gpu_device.cc:1406] Created TensorFlow device (/job:localhost/replica:0/task:0/device:GPU:0 with 11264 MB memory) -> physical GPU (device: 0, name: NVIDIA GeForce GTX TITAN X, pci bus id: 0000:01:00.0, compute capability: 5.2)\n",
      "2022-03-11 19:03:17.454112: I tensorflow/compiler/jit/xla_gpu_device.cc:99] Not creating XLA devices, tf_xla_enable_xla_devices not set\n"
     ]
    },
    {
     "name": "stdout",
     "output_type": "stream",
     "text": [
      "Model: \"model\"\n",
      "_________________________________________________________________\n",
      "Layer (type)                 Output Shape              Param #   \n",
      "=================================================================\n",
      "input_1 (InputLayer)         [(None, 1280, 1920, 3)]   0         \n",
      "_________________________________________________________________\n",
      "resizing (Resizing)          (None, 320, 480, 3)       0         \n",
      "_________________________________________________________________\n",
      "tf.math.truediv (TFOpLambda) (None, 320, 480, 3)       0         \n",
      "_________________________________________________________________\n",
      "tf.math.subtract (TFOpLambda (None, 320, 480, 3)       0         \n",
      "_________________________________________________________________\n",
      "inception_resnet_v2 (Functio (None, 8, 13, 1536)       54336736  \n",
      "_________________________________________________________________\n",
      "flatten (Flatten)            (None, 159744)            0         \n",
      "_________________________________________________________________\n",
      "batch_normalization_203 (Bat (None, 159744)            638976    \n",
      "_________________________________________________________________\n",
      "dense (Dense)                (None, 64)                10223680  \n",
      "_________________________________________________________________\n",
      "dropout (Dropout)            (None, 64)                0         \n",
      "_________________________________________________________________\n",
      "batch_normalization_204 (Bat (None, 64)                256       \n",
      "_________________________________________________________________\n",
      "dense_1 (Dense)              (None, 128)               8320      \n",
      "_________________________________________________________________\n",
      "dropout_1 (Dropout)          (None, 128)               0         \n",
      "_________________________________________________________________\n",
      "batch_normalization_205 (Bat (None, 128)               512       \n",
      "_________________________________________________________________\n",
      "dense_2 (Dense)              (None, 240)               30960     \n",
      "=================================================================\n",
      "Total params: 65,239,440\n",
      "Trainable params: 10,582,832\n",
      "Non-trainable params: 54,656,608\n",
      "_________________________________________________________________\n"
     ]
    }
   ],
   "source": [
    "# StixelNet regression setup\n",
    "\n",
    "\n",
    "model = build_stixel_net_inceptionV3()\n",
    "opt = optimizers.Adam(0.01)\n",
    "lossF = losses.MeanSquaredError()\n",
    "\n",
    "model.compile(loss=lossF, optimizer=opt)\n",
    "model.summary()"
   ]
  },
  {
   "cell_type": "code",
   "execution_count": 5,
   "id": "aeb2cacc",
   "metadata": {},
   "outputs": [
    {
     "name": "stdout",
     "output_type": "stream",
     "text": [
      "(8, 1280, 1920, 3)\n",
      "(8, 240)\n"
     ]
    }
   ],
   "source": [
    "X,y = train_set[0]\n",
    "print(np.shape(X))\n",
    "print(np.shape(y))"
   ]
  },
  {
   "cell_type": "code",
   "execution_count": 6,
   "id": "e2d92573-7d17-4eaa-886d-c97e64350e98",
   "metadata": {},
   "outputs": [
    {
     "name": "stderr",
     "output_type": "stream",
     "text": [
      "2022-03-11 19:03:26.267897: I tensorflow/compiler/mlir/mlir_graph_optimization_pass.cc:116] None of the MLIR optimization passes are enabled (registered 2)\n",
      "2022-03-11 19:03:26.287465: I tensorflow/core/platform/profile_utils/cpu_utils.cc:112] CPU Frequency: 3292470000 Hz\n"
     ]
    },
    {
     "name": "stdout",
     "output_type": "stream",
     "text": [
      "Epoch 1/1000\n"
     ]
    },
    {
     "name": "stderr",
     "output_type": "stream",
     "text": [
      "2022-03-11 19:03:36.015522: I tensorflow/stream_executor/platform/default/dso_loader.cc:49] Successfully opened dynamic library libcublas.so.10\n",
      "2022-03-11 19:03:36.998034: I tensorflow/stream_executor/platform/default/dso_loader.cc:49] Successfully opened dynamic library libcudnn.so.7\n"
     ]
    },
    {
     "name": "stdout",
     "output_type": "stream",
     "text": [
      "624/624 [==============================] - 725s 1s/step - loss: 306497.3488 - val_loss: 29360.7109\n",
      "\n",
      "Epoch 00001: saving model to saved_models/model-001-132026.4688.h5\n",
      "Epoch 2/1000\n",
      "624/624 [==============================] - 708s 1s/step - loss: 29306.3409 - val_loss: 30952.6465\n",
      "\n",
      "Epoch 00002: saving model to saved_models/model-002-28772.0352.h5\n",
      "Epoch 3/1000\n",
      "205/624 [========>.....................] - ETA: 6:45 - loss: 28780.3222"
     ]
    },
    {
     "ename": "KeyboardInterrupt",
     "evalue": "",
     "output_type": "error",
     "traceback": [
      "\u001b[0;31m---------------------------------------------------------------------------\u001b[0m",
      "\u001b[0;31mKeyboardInterrupt\u001b[0m                         Traceback (most recent call last)",
      "\u001b[1;32m/home/menz/StixelNet/obstacle_detection_stixelnet/notebooks/train_regression_fineTune.ipynb Cell 6'\u001b[0m in \u001b[0;36m<cell line: 20>\u001b[0;34m()\u001b[0m\n\u001b[1;32m      <a href='vscode-notebook-cell://ssh-remote%2B192.168.2.11/home/menz/StixelNet/obstacle_detection_stixelnet/notebooks/train_regression_fineTune.ipynb#ch0000004vscode-remote?line=2'>3</a>\u001b[0m num_epoch \u001b[39m=\u001b[39m \u001b[39m1000\u001b[39m\n\u001b[1;32m      <a href='vscode-notebook-cell://ssh-remote%2B192.168.2.11/home/menz/StixelNet/obstacle_detection_stixelnet/notebooks/train_regression_fineTune.ipynb#ch0000004vscode-remote?line=4'>5</a>\u001b[0m callbacks \u001b[39m=\u001b[39m [\n\u001b[1;32m      <a href='vscode-notebook-cell://ssh-remote%2B192.168.2.11/home/menz/StixelNet/obstacle_detection_stixelnet/notebooks/train_regression_fineTune.ipynb#ch0000004vscode-remote?line=5'>6</a>\u001b[0m     ModelCheckpoint(\n\u001b[1;32m      <a href='vscode-notebook-cell://ssh-remote%2B192.168.2.11/home/menz/StixelNet/obstacle_detection_stixelnet/notebooks/train_regression_fineTune.ipynb#ch0000004vscode-remote?line=6'>7</a>\u001b[0m         os\u001b[39m.\u001b[39mpath\u001b[39m.\u001b[39mjoin(dt_config\u001b[39m.\u001b[39mSAVED_MODELS_PATH, \u001b[39m\"\u001b[39m\u001b[39mmodel-\u001b[39m\u001b[39m{epoch:03d}\u001b[39;00m\u001b[39m-\u001b[39m\u001b[39m{loss:.4f}\u001b[39;00m\u001b[39m.h5\u001b[39m\u001b[39m\"\u001b[39m),\n\u001b[0;32m   (...)\u001b[0m\n\u001b[1;32m     <a href='vscode-notebook-cell://ssh-remote%2B192.168.2.11/home/menz/StixelNet/obstacle_detection_stixelnet/notebooks/train_regression_fineTune.ipynb#ch0000004vscode-remote?line=15'>16</a>\u001b[0m     ),\n\u001b[1;32m     <a href='vscode-notebook-cell://ssh-remote%2B192.168.2.11/home/menz/StixelNet/obstacle_detection_stixelnet/notebooks/train_regression_fineTune.ipynb#ch0000004vscode-remote?line=16'>17</a>\u001b[0m ]\n\u001b[0;32m---> <a href='vscode-notebook-cell://ssh-remote%2B192.168.2.11/home/menz/StixelNet/obstacle_detection_stixelnet/notebooks/train_regression_fineTune.ipynb#ch0000004vscode-remote?line=19'>20</a>\u001b[0m history \u001b[39m=\u001b[39m model\u001b[39m.\u001b[39;49mfit(\n\u001b[1;32m     <a href='vscode-notebook-cell://ssh-remote%2B192.168.2.11/home/menz/StixelNet/obstacle_detection_stixelnet/notebooks/train_regression_fineTune.ipynb#ch0000004vscode-remote?line=20'>21</a>\u001b[0m         train_set,       \n\u001b[1;32m     <a href='vscode-notebook-cell://ssh-remote%2B192.168.2.11/home/menz/StixelNet/obstacle_detection_stixelnet/notebooks/train_regression_fineTune.ipynb#ch0000004vscode-remote?line=21'>22</a>\u001b[0m         validation_data\u001b[39m=\u001b[39;49mval_set,      \n\u001b[1;32m     <a href='vscode-notebook-cell://ssh-remote%2B192.168.2.11/home/menz/StixelNet/obstacle_detection_stixelnet/notebooks/train_regression_fineTune.ipynb#ch0000004vscode-remote?line=22'>23</a>\u001b[0m         epochs\u001b[39m=\u001b[39;49mnum_epoch,\n\u001b[1;32m     <a href='vscode-notebook-cell://ssh-remote%2B192.168.2.11/home/menz/StixelNet/obstacle_detection_stixelnet/notebooks/train_regression_fineTune.ipynb#ch0000004vscode-remote?line=23'>24</a>\u001b[0m         callbacks\u001b[39m=\u001b[39;49mcallbacks,\n\u001b[1;32m     <a href='vscode-notebook-cell://ssh-remote%2B192.168.2.11/home/menz/StixelNet/obstacle_detection_stixelnet/notebooks/train_regression_fineTune.ipynb#ch0000004vscode-remote?line=24'>25</a>\u001b[0m         shuffle\u001b[39m=\u001b[39;49m\u001b[39mTrue\u001b[39;49;00m,\n\u001b[1;32m     <a href='vscode-notebook-cell://ssh-remote%2B192.168.2.11/home/menz/StixelNet/obstacle_detection_stixelnet/notebooks/train_regression_fineTune.ipynb#ch0000004vscode-remote?line=25'>26</a>\u001b[0m     )\n",
      "File \u001b[0;32m~/miniconda3/envs/StixelNet-TF/lib/python3.9/site-packages/tensorflow/python/keras/engine/training.py:1100\u001b[0m, in \u001b[0;36mModel.fit\u001b[0;34m(self, x, y, batch_size, epochs, verbose, callbacks, validation_split, validation_data, shuffle, class_weight, sample_weight, initial_epoch, steps_per_epoch, validation_steps, validation_batch_size, validation_freq, max_queue_size, workers, use_multiprocessing)\u001b[0m\n\u001b[1;32m   <a href='file:///home/menz/miniconda3/envs/StixelNet-TF/lib/python3.9/site-packages/tensorflow/python/keras/engine/training.py?line=1092'>1093</a>\u001b[0m \u001b[39mwith\u001b[39;00m trace\u001b[39m.\u001b[39mTrace(\n\u001b[1;32m   <a href='file:///home/menz/miniconda3/envs/StixelNet-TF/lib/python3.9/site-packages/tensorflow/python/keras/engine/training.py?line=1093'>1094</a>\u001b[0m     \u001b[39m'\u001b[39m\u001b[39mtrain\u001b[39m\u001b[39m'\u001b[39m,\n\u001b[1;32m   <a href='file:///home/menz/miniconda3/envs/StixelNet-TF/lib/python3.9/site-packages/tensorflow/python/keras/engine/training.py?line=1094'>1095</a>\u001b[0m     epoch_num\u001b[39m=\u001b[39mepoch,\n\u001b[1;32m   <a href='file:///home/menz/miniconda3/envs/StixelNet-TF/lib/python3.9/site-packages/tensorflow/python/keras/engine/training.py?line=1095'>1096</a>\u001b[0m     step_num\u001b[39m=\u001b[39mstep,\n\u001b[1;32m   <a href='file:///home/menz/miniconda3/envs/StixelNet-TF/lib/python3.9/site-packages/tensorflow/python/keras/engine/training.py?line=1096'>1097</a>\u001b[0m     batch_size\u001b[39m=\u001b[39mbatch_size,\n\u001b[1;32m   <a href='file:///home/menz/miniconda3/envs/StixelNet-TF/lib/python3.9/site-packages/tensorflow/python/keras/engine/training.py?line=1097'>1098</a>\u001b[0m     _r\u001b[39m=\u001b[39m\u001b[39m1\u001b[39m):\n\u001b[1;32m   <a href='file:///home/menz/miniconda3/envs/StixelNet-TF/lib/python3.9/site-packages/tensorflow/python/keras/engine/training.py?line=1098'>1099</a>\u001b[0m   callbacks\u001b[39m.\u001b[39mon_train_batch_begin(step)\n\u001b[0;32m-> <a href='file:///home/menz/miniconda3/envs/StixelNet-TF/lib/python3.9/site-packages/tensorflow/python/keras/engine/training.py?line=1099'>1100</a>\u001b[0m   tmp_logs \u001b[39m=\u001b[39m \u001b[39mself\u001b[39;49m\u001b[39m.\u001b[39;49mtrain_function(iterator)\n\u001b[1;32m   <a href='file:///home/menz/miniconda3/envs/StixelNet-TF/lib/python3.9/site-packages/tensorflow/python/keras/engine/training.py?line=1100'>1101</a>\u001b[0m   \u001b[39mif\u001b[39;00m data_handler\u001b[39m.\u001b[39mshould_sync:\n\u001b[1;32m   <a href='file:///home/menz/miniconda3/envs/StixelNet-TF/lib/python3.9/site-packages/tensorflow/python/keras/engine/training.py?line=1101'>1102</a>\u001b[0m     context\u001b[39m.\u001b[39masync_wait()\n",
      "File \u001b[0;32m~/miniconda3/envs/StixelNet-TF/lib/python3.9/site-packages/tensorflow/python/eager/def_function.py:828\u001b[0m, in \u001b[0;36mFunction.__call__\u001b[0;34m(self, *args, **kwds)\u001b[0m\n\u001b[1;32m    <a href='file:///home/menz/miniconda3/envs/StixelNet-TF/lib/python3.9/site-packages/tensorflow/python/eager/def_function.py?line=825'>826</a>\u001b[0m tracing_count \u001b[39m=\u001b[39m \u001b[39mself\u001b[39m\u001b[39m.\u001b[39mexperimental_get_tracing_count()\n\u001b[1;32m    <a href='file:///home/menz/miniconda3/envs/StixelNet-TF/lib/python3.9/site-packages/tensorflow/python/eager/def_function.py?line=826'>827</a>\u001b[0m \u001b[39mwith\u001b[39;00m trace\u001b[39m.\u001b[39mTrace(\u001b[39mself\u001b[39m\u001b[39m.\u001b[39m_name) \u001b[39mas\u001b[39;00m tm:\n\u001b[0;32m--> <a href='file:///home/menz/miniconda3/envs/StixelNet-TF/lib/python3.9/site-packages/tensorflow/python/eager/def_function.py?line=827'>828</a>\u001b[0m   result \u001b[39m=\u001b[39m \u001b[39mself\u001b[39;49m\u001b[39m.\u001b[39;49m_call(\u001b[39m*\u001b[39;49margs, \u001b[39m*\u001b[39;49m\u001b[39m*\u001b[39;49mkwds)\n\u001b[1;32m    <a href='file:///home/menz/miniconda3/envs/StixelNet-TF/lib/python3.9/site-packages/tensorflow/python/eager/def_function.py?line=828'>829</a>\u001b[0m   compiler \u001b[39m=\u001b[39m \u001b[39m\"\u001b[39m\u001b[39mxla\u001b[39m\u001b[39m\"\u001b[39m \u001b[39mif\u001b[39;00m \u001b[39mself\u001b[39m\u001b[39m.\u001b[39m_experimental_compile \u001b[39melse\u001b[39;00m \u001b[39m\"\u001b[39m\u001b[39mnonXla\u001b[39m\u001b[39m\"\u001b[39m\n\u001b[1;32m    <a href='file:///home/menz/miniconda3/envs/StixelNet-TF/lib/python3.9/site-packages/tensorflow/python/eager/def_function.py?line=829'>830</a>\u001b[0m   new_tracing_count \u001b[39m=\u001b[39m \u001b[39mself\u001b[39m\u001b[39m.\u001b[39mexperimental_get_tracing_count()\n",
      "File \u001b[0;32m~/miniconda3/envs/StixelNet-TF/lib/python3.9/site-packages/tensorflow/python/eager/def_function.py:855\u001b[0m, in \u001b[0;36mFunction._call\u001b[0;34m(self, *args, **kwds)\u001b[0m\n\u001b[1;32m    <a href='file:///home/menz/miniconda3/envs/StixelNet-TF/lib/python3.9/site-packages/tensorflow/python/eager/def_function.py?line=851'>852</a>\u001b[0m   \u001b[39mself\u001b[39m\u001b[39m.\u001b[39m_lock\u001b[39m.\u001b[39mrelease()\n\u001b[1;32m    <a href='file:///home/menz/miniconda3/envs/StixelNet-TF/lib/python3.9/site-packages/tensorflow/python/eager/def_function.py?line=852'>853</a>\u001b[0m   \u001b[39m# In this case we have created variables on the first call, so we run the\u001b[39;00m\n\u001b[1;32m    <a href='file:///home/menz/miniconda3/envs/StixelNet-TF/lib/python3.9/site-packages/tensorflow/python/eager/def_function.py?line=853'>854</a>\u001b[0m   \u001b[39m# defunned version which is guaranteed to never create variables.\u001b[39;00m\n\u001b[0;32m--> <a href='file:///home/menz/miniconda3/envs/StixelNet-TF/lib/python3.9/site-packages/tensorflow/python/eager/def_function.py?line=854'>855</a>\u001b[0m   \u001b[39mreturn\u001b[39;00m \u001b[39mself\u001b[39;49m\u001b[39m.\u001b[39;49m_stateless_fn(\u001b[39m*\u001b[39;49margs, \u001b[39m*\u001b[39;49m\u001b[39m*\u001b[39;49mkwds)  \u001b[39m# pylint: disable=not-callable\u001b[39;00m\n\u001b[1;32m    <a href='file:///home/menz/miniconda3/envs/StixelNet-TF/lib/python3.9/site-packages/tensorflow/python/eager/def_function.py?line=855'>856</a>\u001b[0m \u001b[39melif\u001b[39;00m \u001b[39mself\u001b[39m\u001b[39m.\u001b[39m_stateful_fn \u001b[39mis\u001b[39;00m \u001b[39mnot\u001b[39;00m \u001b[39mNone\u001b[39;00m:\n\u001b[1;32m    <a href='file:///home/menz/miniconda3/envs/StixelNet-TF/lib/python3.9/site-packages/tensorflow/python/eager/def_function.py?line=856'>857</a>\u001b[0m   \u001b[39m# Release the lock early so that multiple threads can perform the call\u001b[39;00m\n\u001b[1;32m    <a href='file:///home/menz/miniconda3/envs/StixelNet-TF/lib/python3.9/site-packages/tensorflow/python/eager/def_function.py?line=857'>858</a>\u001b[0m   \u001b[39m# in parallel.\u001b[39;00m\n\u001b[1;32m    <a href='file:///home/menz/miniconda3/envs/StixelNet-TF/lib/python3.9/site-packages/tensorflow/python/eager/def_function.py?line=858'>859</a>\u001b[0m   \u001b[39mself\u001b[39m\u001b[39m.\u001b[39m_lock\u001b[39m.\u001b[39mrelease()\n",
      "File \u001b[0;32m~/miniconda3/envs/StixelNet-TF/lib/python3.9/site-packages/tensorflow/python/eager/function.py:2942\u001b[0m, in \u001b[0;36mFunction.__call__\u001b[0;34m(self, *args, **kwargs)\u001b[0m\n\u001b[1;32m   <a href='file:///home/menz/miniconda3/envs/StixelNet-TF/lib/python3.9/site-packages/tensorflow/python/eager/function.py?line=2938'>2939</a>\u001b[0m \u001b[39mwith\u001b[39;00m \u001b[39mself\u001b[39m\u001b[39m.\u001b[39m_lock:\n\u001b[1;32m   <a href='file:///home/menz/miniconda3/envs/StixelNet-TF/lib/python3.9/site-packages/tensorflow/python/eager/function.py?line=2939'>2940</a>\u001b[0m   (graph_function,\n\u001b[1;32m   <a href='file:///home/menz/miniconda3/envs/StixelNet-TF/lib/python3.9/site-packages/tensorflow/python/eager/function.py?line=2940'>2941</a>\u001b[0m    filtered_flat_args) \u001b[39m=\u001b[39m \u001b[39mself\u001b[39m\u001b[39m.\u001b[39m_maybe_define_function(args, kwargs)\n\u001b[0;32m-> <a href='file:///home/menz/miniconda3/envs/StixelNet-TF/lib/python3.9/site-packages/tensorflow/python/eager/function.py?line=2941'>2942</a>\u001b[0m \u001b[39mreturn\u001b[39;00m graph_function\u001b[39m.\u001b[39;49m_call_flat(\n\u001b[1;32m   <a href='file:///home/menz/miniconda3/envs/StixelNet-TF/lib/python3.9/site-packages/tensorflow/python/eager/function.py?line=2942'>2943</a>\u001b[0m     filtered_flat_args, captured_inputs\u001b[39m=\u001b[39;49mgraph_function\u001b[39m.\u001b[39;49mcaptured_inputs)\n",
      "File \u001b[0;32m~/miniconda3/envs/StixelNet-TF/lib/python3.9/site-packages/tensorflow/python/eager/function.py:1918\u001b[0m, in \u001b[0;36mConcreteFunction._call_flat\u001b[0;34m(self, args, captured_inputs, cancellation_manager)\u001b[0m\n\u001b[1;32m   <a href='file:///home/menz/miniconda3/envs/StixelNet-TF/lib/python3.9/site-packages/tensorflow/python/eager/function.py?line=1913'>1914</a>\u001b[0m possible_gradient_type \u001b[39m=\u001b[39m gradients_util\u001b[39m.\u001b[39mPossibleTapeGradientTypes(args)\n\u001b[1;32m   <a href='file:///home/menz/miniconda3/envs/StixelNet-TF/lib/python3.9/site-packages/tensorflow/python/eager/function.py?line=1914'>1915</a>\u001b[0m \u001b[39mif\u001b[39;00m (possible_gradient_type \u001b[39m==\u001b[39m gradients_util\u001b[39m.\u001b[39mPOSSIBLE_GRADIENT_TYPES_NONE\n\u001b[1;32m   <a href='file:///home/menz/miniconda3/envs/StixelNet-TF/lib/python3.9/site-packages/tensorflow/python/eager/function.py?line=1915'>1916</a>\u001b[0m     \u001b[39mand\u001b[39;00m executing_eagerly):\n\u001b[1;32m   <a href='file:///home/menz/miniconda3/envs/StixelNet-TF/lib/python3.9/site-packages/tensorflow/python/eager/function.py?line=1916'>1917</a>\u001b[0m   \u001b[39m# No tape is watching; skip to running the function.\u001b[39;00m\n\u001b[0;32m-> <a href='file:///home/menz/miniconda3/envs/StixelNet-TF/lib/python3.9/site-packages/tensorflow/python/eager/function.py?line=1917'>1918</a>\u001b[0m   \u001b[39mreturn\u001b[39;00m \u001b[39mself\u001b[39m\u001b[39m.\u001b[39m_build_call_outputs(\u001b[39mself\u001b[39;49m\u001b[39m.\u001b[39;49m_inference_function\u001b[39m.\u001b[39;49mcall(\n\u001b[1;32m   <a href='file:///home/menz/miniconda3/envs/StixelNet-TF/lib/python3.9/site-packages/tensorflow/python/eager/function.py?line=1918'>1919</a>\u001b[0m       ctx, args, cancellation_manager\u001b[39m=\u001b[39;49mcancellation_manager))\n\u001b[1;32m   <a href='file:///home/menz/miniconda3/envs/StixelNet-TF/lib/python3.9/site-packages/tensorflow/python/eager/function.py?line=1919'>1920</a>\u001b[0m forward_backward \u001b[39m=\u001b[39m \u001b[39mself\u001b[39m\u001b[39m.\u001b[39m_select_forward_and_backward_functions(\n\u001b[1;32m   <a href='file:///home/menz/miniconda3/envs/StixelNet-TF/lib/python3.9/site-packages/tensorflow/python/eager/function.py?line=1920'>1921</a>\u001b[0m     args,\n\u001b[1;32m   <a href='file:///home/menz/miniconda3/envs/StixelNet-TF/lib/python3.9/site-packages/tensorflow/python/eager/function.py?line=1921'>1922</a>\u001b[0m     possible_gradient_type,\n\u001b[1;32m   <a href='file:///home/menz/miniconda3/envs/StixelNet-TF/lib/python3.9/site-packages/tensorflow/python/eager/function.py?line=1922'>1923</a>\u001b[0m     executing_eagerly)\n\u001b[1;32m   <a href='file:///home/menz/miniconda3/envs/StixelNet-TF/lib/python3.9/site-packages/tensorflow/python/eager/function.py?line=1923'>1924</a>\u001b[0m forward_function, args_with_tangents \u001b[39m=\u001b[39m forward_backward\u001b[39m.\u001b[39mforward()\n",
      "File \u001b[0;32m~/miniconda3/envs/StixelNet-TF/lib/python3.9/site-packages/tensorflow/python/eager/function.py:555\u001b[0m, in \u001b[0;36m_EagerDefinedFunction.call\u001b[0;34m(self, ctx, args, cancellation_manager)\u001b[0m\n\u001b[1;32m    <a href='file:///home/menz/miniconda3/envs/StixelNet-TF/lib/python3.9/site-packages/tensorflow/python/eager/function.py?line=552'>553</a>\u001b[0m \u001b[39mwith\u001b[39;00m _InterpolateFunctionError(\u001b[39mself\u001b[39m):\n\u001b[1;32m    <a href='file:///home/menz/miniconda3/envs/StixelNet-TF/lib/python3.9/site-packages/tensorflow/python/eager/function.py?line=553'>554</a>\u001b[0m   \u001b[39mif\u001b[39;00m cancellation_manager \u001b[39mis\u001b[39;00m \u001b[39mNone\u001b[39;00m:\n\u001b[0;32m--> <a href='file:///home/menz/miniconda3/envs/StixelNet-TF/lib/python3.9/site-packages/tensorflow/python/eager/function.py?line=554'>555</a>\u001b[0m     outputs \u001b[39m=\u001b[39m execute\u001b[39m.\u001b[39;49mexecute(\n\u001b[1;32m    <a href='file:///home/menz/miniconda3/envs/StixelNet-TF/lib/python3.9/site-packages/tensorflow/python/eager/function.py?line=555'>556</a>\u001b[0m         \u001b[39mstr\u001b[39;49m(\u001b[39mself\u001b[39;49m\u001b[39m.\u001b[39;49msignature\u001b[39m.\u001b[39;49mname),\n\u001b[1;32m    <a href='file:///home/menz/miniconda3/envs/StixelNet-TF/lib/python3.9/site-packages/tensorflow/python/eager/function.py?line=556'>557</a>\u001b[0m         num_outputs\u001b[39m=\u001b[39;49m\u001b[39mself\u001b[39;49m\u001b[39m.\u001b[39;49m_num_outputs,\n\u001b[1;32m    <a href='file:///home/menz/miniconda3/envs/StixelNet-TF/lib/python3.9/site-packages/tensorflow/python/eager/function.py?line=557'>558</a>\u001b[0m         inputs\u001b[39m=\u001b[39;49margs,\n\u001b[1;32m    <a href='file:///home/menz/miniconda3/envs/StixelNet-TF/lib/python3.9/site-packages/tensorflow/python/eager/function.py?line=558'>559</a>\u001b[0m         attrs\u001b[39m=\u001b[39;49mattrs,\n\u001b[1;32m    <a href='file:///home/menz/miniconda3/envs/StixelNet-TF/lib/python3.9/site-packages/tensorflow/python/eager/function.py?line=559'>560</a>\u001b[0m         ctx\u001b[39m=\u001b[39;49mctx)\n\u001b[1;32m    <a href='file:///home/menz/miniconda3/envs/StixelNet-TF/lib/python3.9/site-packages/tensorflow/python/eager/function.py?line=560'>561</a>\u001b[0m   \u001b[39melse\u001b[39;00m:\n\u001b[1;32m    <a href='file:///home/menz/miniconda3/envs/StixelNet-TF/lib/python3.9/site-packages/tensorflow/python/eager/function.py?line=561'>562</a>\u001b[0m     outputs \u001b[39m=\u001b[39m execute\u001b[39m.\u001b[39mexecute_with_cancellation(\n\u001b[1;32m    <a href='file:///home/menz/miniconda3/envs/StixelNet-TF/lib/python3.9/site-packages/tensorflow/python/eager/function.py?line=562'>563</a>\u001b[0m         \u001b[39mstr\u001b[39m(\u001b[39mself\u001b[39m\u001b[39m.\u001b[39msignature\u001b[39m.\u001b[39mname),\n\u001b[1;32m    <a href='file:///home/menz/miniconda3/envs/StixelNet-TF/lib/python3.9/site-packages/tensorflow/python/eager/function.py?line=563'>564</a>\u001b[0m         num_outputs\u001b[39m=\u001b[39m\u001b[39mself\u001b[39m\u001b[39m.\u001b[39m_num_outputs,\n\u001b[0;32m   (...)\u001b[0m\n\u001b[1;32m    <a href='file:///home/menz/miniconda3/envs/StixelNet-TF/lib/python3.9/site-packages/tensorflow/python/eager/function.py?line=566'>567</a>\u001b[0m         ctx\u001b[39m=\u001b[39mctx,\n\u001b[1;32m    <a href='file:///home/menz/miniconda3/envs/StixelNet-TF/lib/python3.9/site-packages/tensorflow/python/eager/function.py?line=567'>568</a>\u001b[0m         cancellation_manager\u001b[39m=\u001b[39mcancellation_manager)\n",
      "File \u001b[0;32m~/miniconda3/envs/StixelNet-TF/lib/python3.9/site-packages/tensorflow/python/eager/execute.py:59\u001b[0m, in \u001b[0;36mquick_execute\u001b[0;34m(op_name, num_outputs, inputs, attrs, ctx, name)\u001b[0m\n\u001b[1;32m     <a href='file:///home/menz/miniconda3/envs/StixelNet-TF/lib/python3.9/site-packages/tensorflow/python/eager/execute.py?line=56'>57</a>\u001b[0m \u001b[39mtry\u001b[39;00m:\n\u001b[1;32m     <a href='file:///home/menz/miniconda3/envs/StixelNet-TF/lib/python3.9/site-packages/tensorflow/python/eager/execute.py?line=57'>58</a>\u001b[0m   ctx\u001b[39m.\u001b[39mensure_initialized()\n\u001b[0;32m---> <a href='file:///home/menz/miniconda3/envs/StixelNet-TF/lib/python3.9/site-packages/tensorflow/python/eager/execute.py?line=58'>59</a>\u001b[0m   tensors \u001b[39m=\u001b[39m pywrap_tfe\u001b[39m.\u001b[39;49mTFE_Py_Execute(ctx\u001b[39m.\u001b[39;49m_handle, device_name, op_name,\n\u001b[1;32m     <a href='file:///home/menz/miniconda3/envs/StixelNet-TF/lib/python3.9/site-packages/tensorflow/python/eager/execute.py?line=59'>60</a>\u001b[0m                                       inputs, attrs, num_outputs)\n\u001b[1;32m     <a href='file:///home/menz/miniconda3/envs/StixelNet-TF/lib/python3.9/site-packages/tensorflow/python/eager/execute.py?line=60'>61</a>\u001b[0m \u001b[39mexcept\u001b[39;00m core\u001b[39m.\u001b[39m_NotOkStatusException \u001b[39mas\u001b[39;00m e:\n\u001b[1;32m     <a href='file:///home/menz/miniconda3/envs/StixelNet-TF/lib/python3.9/site-packages/tensorflow/python/eager/execute.py?line=61'>62</a>\u001b[0m   \u001b[39mif\u001b[39;00m name \u001b[39mis\u001b[39;00m \u001b[39mnot\u001b[39;00m \u001b[39mNone\u001b[39;00m:\n",
      "\u001b[0;31mKeyboardInterrupt\u001b[0m: "
     ]
    }
   ],
   "source": [
    "# Training\n",
    "\n",
    "num_epoch = 1000\n",
    "\n",
    "callbacks = [\n",
    "    ModelCheckpoint(\n",
    "        os.path.join(dt_config.SAVED_MODELS_PATH, \"model-{epoch:03d}-{loss:.4f}.h5\"),\n",
    "        monitor=\"val_loss\",\n",
    "        verbose=1,\n",
    "        save_best_only=False,\n",
    "        mode=\"auto\",\n",
    "        save_freq=\"epoch\",\n",
    "    ),    \n",
    "    EarlyStopping(\n",
    "        monitor=\"val_loss\", min_delta=0, patience=10, verbose=0, mode=\"auto\"\n",
    "    ),\n",
    "]\n",
    "\n",
    "\n",
    "history = model.fit(\n",
    "        train_set,       \n",
    "        validation_data=val_set,      \n",
    "        epochs=num_epoch,\n",
    "        callbacks=callbacks,\n",
    "        shuffle=True,\n",
    "    )"
   ]
  }
 ],
 "metadata": {
  "interpreter": {
   "hash": "b4d979c0f2b07a2e75b211ad88b70225581aca2696c1becbd504a70dedd26bf6"
  },
  "kernelspec": {
   "display_name": "Python StixelNet",
   "language": "python",
   "name": "python3"
  },
  "language_info": {
   "codemirror_mode": {
    "name": "ipython",
    "version": 3
   },
   "file_extension": ".py",
   "mimetype": "text/x-python",
   "name": "python",
   "nbconvert_exporter": "python",
   "pygments_lexer": "ipython3",
   "version": "3.9.7"
  }
 },
 "nbformat": 4,
 "nbformat_minor": 5
}
