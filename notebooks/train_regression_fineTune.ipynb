{
 "cells": [
  {
   "cell_type": "code",
   "execution_count": 1,
   "id": "50c748aa-1b9e-40f2-9aac-6dfbf6e9f7e5",
   "metadata": {},
   "outputs": [],
   "source": [
    "from __future__ import print_function\n",
    "import os\n",
    "import sys\n",
    "import cv2\n",
    "from matplotlib import pyplot as plt\n",
    "import numpy as np\n",
    "\n",
    "from local_config import CURRENT_DIR\n",
    "sys.path.append(os.path.join(CURRENT_DIR, \"..\"))\n",
    "\n",
    "try:\n",
    "    from config import Config\n",
    "    from data_loader import WaymoStixelDataset\n",
    "except:\n",
    "    print(\"failed to load module\")\n",
    "    \n",
    "from albumentations import (\n",
    "    Resize,\n",
    "    Compose,\n",
    "    CLAHE,\n",
    "    HueSaturationValue,\n",
    "    RandomBrightness,\n",
    "    RandomContrast,\n",
    "    RandomGamma,\n",
    "    ToFloat,\n",
    "    Normalize,\n",
    "    GaussNoise,\n",
    "    RandomShadow,\n",
    "    RandomRain,\n",
    ")\n",
    "\n",
    "import utility\n",
    "import importlib\n",
    "from models.stixel_net import build_stixel_net_inceptionV3, build_stixel_net_small, build_stixel_net\n",
    "\n",
    "# TensorFlow\n",
    "import tensorflow as tf\n",
    "from tensorflow.keras import losses\n",
    "from tensorflow.keras import optimizers\n",
    "from tensorflow.keras.callbacks import (\n",
    "    ModelCheckpoint,\n",
    "    ReduceLROnPlateau,\n",
    "    EarlyStopping,\n",
    ")"
   ]
  },
  {
   "cell_type": "code",
   "execution_count": 2,
   "id": "d25a964d-1f24-4f61-b539-cb3aa59867da",
   "metadata": {},
   "outputs": [
    {
     "name": "stdout",
     "output_type": "stream",
     "text": [
      "\n",
      "Configurations:\n",
      "CURRENT_DIR                    /Users/menzweil/Development/StixelNet/obstacle_detection_stixelnet\n",
      "DATA_PATH                      /Users/menzweil/Development/StixelNet/obstacle_detection_stixelnet/data/StixelNet_Waymo\n",
      "GROUND_TRUTH_PATH              /Users/menzweil/Development/StixelNet/obstacle_detection_stixelnet/data/StixelNet_Waymo/waymo_train.txt\n",
      "NUM_EPOCHS                     50\n",
      "SAVED_MODELS_PATH              saved_models\n",
      "\n",
      "\n"
     ]
    }
   ],
   "source": [
    "dt_config = Config()\n",
    "dt_config.display()"
   ]
  },
  {
   "cell_type": "code",
   "execution_count": 3,
   "id": "1ae3ba3f-2084-47c9-82ab-a75d4e12d3a2",
   "metadata": {},
   "outputs": [
    {
     "name": "stderr",
     "output_type": "stream",
     "text": [
      "/Users/menzweil/Development/miniforge3/envs/StixelNet/lib/python3.9/site-packages/albumentations/augmentations/transforms.py:1826: FutureWarning: This class has been deprecated. Please use RandomBrightnessContrast\n",
      "  warnings.warn(\n",
      "/Users/menzweil/Development/miniforge3/envs/StixelNet/lib/python3.9/site-packages/albumentations/augmentations/transforms.py:1800: FutureWarning: This class has been deprecated. Please use RandomBrightnessContrast\n",
      "  warnings.warn(\n"
     ]
    }
   ],
   "source": [
    "## Train and Val set\n",
    "\n",
    "\n",
    "train_aug = Compose(\n",
    "    [\n",
    "        GaussNoise(p=1.0),\n",
    "        RandomShadow(p=0.5),\n",
    "        RandomRain(p=0.5, rain_type=\"drizzle\"),\n",
    "        RandomContrast(limit=0.2, p=0.5),\n",
    "        RandomGamma(gamma_limit=(80, 120), p=0.5),\n",
    "        RandomBrightness(limit=0.2, p=0.5),\n",
    "        HueSaturationValue(\n",
    "            hue_shift_limit=5, sat_shift_limit=20, val_shift_limit=10, p=0.5\n",
    "        ),\n",
    "        CLAHE(p=0.5, clip_limit=2.0),\n",
    "        Normalize(p=1.0),\n",
    "    ]\n",
    ")\n",
    "    \n",
    "# AUGMENTATIONS DISABLED\n",
    "train_set = WaymoStixelDataset(\n",
    "        data_path=dt_config.DATA_PATH,\n",
    "        ground_truth_path=os.path.join(dt_config.DATA_PATH, \"waymo_train.txt\"),\n",
    "        batch_size=8,\n",
    "        transform=None,\n",
    "        customized_transform=utility.HorizontalFlip(p=0.5),\n",
    "    )\n",
    "\n",
    "\n",
    "\n",
    "\n",
    "val_aug = Compose([Normalize(p=1.0)])\n",
    "val_set = WaymoStixelDataset(\n",
    "        data_path=dt_config.DATA_PATH,\n",
    "        ground_truth_path=os.path.join(dt_config.DATA_PATH, \"waymo_val.txt\"),\n",
    "        transform=None,\n",
    "    )\n"
   ]
  },
  {
   "cell_type": "code",
   "execution_count": 4,
   "id": "789f3e44",
   "metadata": {},
   "outputs": [],
   "source": [
    "def custom_loss(y_actual,y_pred):\n",
    " \n",
    "    mask = tf.cast(tf.math.less(y_actual, tf.constant([1000000000.0])), dtype=tf.float32)    \n",
    "    custom_loss=tf.reduce_mean(tf.math.abs( tf.math.multiply( (y_actual-y_pred), mask)), axis=-1)  \n",
    "    return custom_loss"
   ]
  },
  {
   "cell_type": "code",
   "execution_count": 5,
   "id": "3376a5a0-9abd-4698-9190-766b3823b8d4",
   "metadata": {},
   "outputs": [
    {
     "name": "stderr",
     "output_type": "stream",
     "text": [
      "2022-03-12 01:08:16.273366: I tensorflow/core/common_runtime/pluggable_device/pluggable_device_factory.cc:305] Could not identify NUMA node of platform GPU ID 0, defaulting to 0. Your kernel may not have been built with NUMA support.\n",
      "2022-03-12 01:08:16.273498: I tensorflow/core/common_runtime/pluggable_device/pluggable_device_factory.cc:271] Created TensorFlow device (/job:localhost/replica:0/task:0/device:GPU:0 with 0 MB memory) -> physical PluggableDevice (device: 0, name: METAL, pci bus id: <undefined>)\n"
     ]
    },
    {
     "name": "stdout",
     "output_type": "stream",
     "text": [
      "Metal device set to: Apple M1\n",
      "\n",
      "systemMemory: 16.00 GB\n",
      "maxCacheSize: 5.33 GB\n",
      "\n",
      "Model: \"model\"\n",
      "_________________________________________________________________\n",
      "Layer (type)                 Output Shape              Param #   \n",
      "=================================================================\n",
      "input_1 (InputLayer)         [(None, 1280, 1920, 3)]   0         \n",
      "_________________________________________________________________\n",
      "resizing (Resizing)          (None, 320, 480, 3)       0         \n",
      "_________________________________________________________________\n",
      "tf.math.truediv (TFOpLambda) (None, 320, 480, 3)       0         \n",
      "_________________________________________________________________\n",
      "tf.math.subtract (TFOpLambda (None, 320, 480, 3)       0         \n",
      "_________________________________________________________________\n",
      "inception_resnet_v2 (Functio (None, 8, 13, 1536)       54336736  \n",
      "_________________________________________________________________\n",
      "flatten (Flatten)            (None, 159744)            0         \n",
      "_________________________________________________________________\n",
      "batch_normalization_203 (Bat (None, 159744)            638976    \n",
      "_________________________________________________________________\n",
      "dense (Dense)                (None, 32)                5111840   \n",
      "_________________________________________________________________\n",
      "dropout (Dropout)            (None, 32)                0         \n",
      "_________________________________________________________________\n",
      "batch_normalization_204 (Bat (None, 32)                128       \n",
      "_________________________________________________________________\n",
      "dense_1 (Dense)              (None, 64)                2112      \n",
      "_________________________________________________________________\n",
      "dropout_1 (Dropout)          (None, 64)                0         \n",
      "_________________________________________________________________\n",
      "batch_normalization_205 (Bat (None, 64)                256       \n",
      "_________________________________________________________________\n",
      "dense_2 (Dense)              (None, 240)               15600     \n",
      "=================================================================\n",
      "Total params: 60,105,648\n",
      "Trainable params: 5,449,232\n",
      "Non-trainable params: 54,656,416\n",
      "_________________________________________________________________\n"
     ]
    }
   ],
   "source": [
    "# StixelNet regression setup\n",
    "\n",
    "#model = build_stixel_net_inceptionV3()\n",
    "model = build_stixel_net()\n",
    "opt = optimizers.Adam()\n",
    "#lossF = losses.MeanSquaredError()\n",
    "\n",
    "model.compile(loss=custom_loss, optimizer=opt)\n",
    "model.summary()"
   ]
  },
  {
   "cell_type": "code",
   "execution_count": 6,
   "id": "aeb2cacc",
   "metadata": {},
   "outputs": [
    {
     "name": "stdout",
     "output_type": "stream",
     "text": [
      "(8, 1280, 1920, 3)\n",
      "(8, 240)\n"
     ]
    }
   ],
   "source": [
    "X,y = train_set[0]\n",
    "print(np.shape(X))\n",
    "print(np.shape(y))"
   ]
  },
  {
   "cell_type": "code",
   "execution_count": 7,
   "id": "e2d92573-7d17-4eaa-886d-c97e64350e98",
   "metadata": {},
   "outputs": [
    {
     "name": "stderr",
     "output_type": "stream",
     "text": [
      "2022-03-12 01:08:20.900696: I tensorflow/compiler/mlir/mlir_graph_optimization_pass.cc:185] None of the MLIR Optimization Passes are enabled (registered 2)\n",
      "2022-03-12 01:08:20.900840: W tensorflow/core/platform/profile_utils/cpu_utils.cc:128] Failed to get CPU frequency: 0 Hz\n"
     ]
    },
    {
     "name": "stdout",
     "output_type": "stream",
     "text": [
      "Epoch 1/1000\n"
     ]
    },
    {
     "name": "stderr",
     "output_type": "stream",
     "text": [
      "2022-03-12 01:08:23.236827: I tensorflow/core/grappler/optimizers/custom_graph_optimizer_registry.cc:112] Plugin optimizer for device_type GPU is enabled.\n"
     ]
    },
    {
     "name": "stdout",
     "output_type": "stream",
     "text": [
      "624/624 [==============================] - ETA: 0s - loss: 605.1008"
     ]
    },
    {
     "name": "stderr",
     "output_type": "stream",
     "text": [
      "2022-03-12 01:17:20.750817: I tensorflow/core/grappler/optimizers/custom_graph_optimizer_registry.cc:112] Plugin optimizer for device_type GPU is enabled.\n"
     ]
    },
    {
     "name": "stdout",
     "output_type": "stream",
     "text": [
      "624/624 [==============================] - 641s 1s/step - loss: 605.1008 - val_loss: 560.1996\n",
      "\n",
      "Epoch 00001: saving model to saved_models/model-001-605.1008.h5\n",
      "Epoch 2/1000\n",
      "624/624 [==============================] - 634s 1s/step - loss: 514.2439 - val_loss: 461.0501\n",
      "\n",
      "Epoch 00002: saving model to saved_models/model-002-514.2439.h5\n",
      "Epoch 3/1000\n",
      "624/624 [==============================] - 634s 1s/step - loss: 345.8168 - val_loss: 226.7565\n",
      "\n",
      "Epoch 00003: saving model to saved_models/model-003-345.8168.h5\n",
      "Epoch 4/1000\n",
      "624/624 [==============================] - 634s 1s/step - loss: 173.1335 - val_loss: 105.8344\n",
      "\n",
      "Epoch 00004: saving model to saved_models/model-004-173.1335.h5\n",
      "Epoch 5/1000\n",
      "624/624 [==============================] - 636s 1s/step - loss: 83.2120 - val_loss: 97.8424\n",
      "\n",
      "Epoch 00005: saving model to saved_models/model-005-83.2120.h5\n",
      "Epoch 6/1000\n",
      "624/624 [==============================] - 634s 1s/step - loss: 75.7095 - val_loss: 103.6241\n",
      "\n",
      "Epoch 00006: saving model to saved_models/model-006-75.7095.h5\n",
      "Epoch 7/1000\n",
      "624/624 [==============================] - 632s 1s/step - loss: 74.7855 - val_loss: 183.9445\n",
      "\n",
      "Epoch 00007: saving model to saved_models/model-007-74.7855.h5\n",
      "Epoch 8/1000\n",
      "624/624 [==============================] - 635s 1s/step - loss: 74.2480 - val_loss: 98.4312\n",
      "\n",
      "Epoch 00008: saving model to saved_models/model-008-74.2480.h5\n",
      "Epoch 9/1000\n",
      "624/624 [==============================] - 633s 1s/step - loss: 73.5713 - val_loss: 139.8211\n",
      "\n",
      "Epoch 00009: saving model to saved_models/model-009-73.5713.h5\n",
      "Epoch 10/1000\n",
      "624/624 [==============================] - 635s 1s/step - loss: 73.4979 - val_loss: 190.3998\n",
      "\n",
      "Epoch 00010: saving model to saved_models/model-010-73.4979.h5\n",
      "Epoch 11/1000\n",
      "624/624 [==============================] - 634s 1s/step - loss: 73.0811 - val_loss: 193.1946\n",
      "\n",
      "Epoch 00011: saving model to saved_models/model-011-73.0811.h5\n",
      "Epoch 12/1000\n",
      "624/624 [==============================] - 634s 1s/step - loss: 73.0397 - val_loss: 234.4224\n",
      "\n",
      "Epoch 00012: saving model to saved_models/model-012-73.0397.h5\n",
      "Epoch 13/1000\n",
      "624/624 [==============================] - 634s 1s/step - loss: 72.6494 - val_loss: 89.9003\n",
      "\n",
      "Epoch 00013: saving model to saved_models/model-013-72.6494.h5\n",
      "Epoch 14/1000\n",
      "624/624 [==============================] - 633s 1s/step - loss: 72.1806 - val_loss: 74.1303\n",
      "\n",
      "Epoch 00014: saving model to saved_models/model-014-72.1806.h5\n",
      "Epoch 15/1000\n",
      "624/624 [==============================] - 635s 1s/step - loss: 71.4230 - val_loss: 70.2090\n",
      "\n",
      "Epoch 00015: saving model to saved_models/model-015-71.4230.h5\n",
      "Epoch 16/1000\n",
      "624/624 [==============================] - 634s 1s/step - loss: 70.7127 - val_loss: 71.7993\n",
      "\n",
      "Epoch 00016: saving model to saved_models/model-016-70.7127.h5\n",
      "Epoch 17/1000\n",
      "624/624 [==============================] - 633s 1s/step - loss: 70.1415 - val_loss: 70.4181\n",
      "\n",
      "Epoch 00017: saving model to saved_models/model-017-70.1415.h5\n",
      "Epoch 18/1000\n",
      "624/624 [==============================] - 633s 1s/step - loss: 69.6644 - val_loss: 69.5461\n",
      "\n",
      "Epoch 00018: saving model to saved_models/model-018-69.6644.h5\n",
      "Epoch 19/1000\n",
      "624/624 [==============================] - 633s 1s/step - loss: 68.6116 - val_loss: 69.6031\n",
      "\n",
      "Epoch 00019: saving model to saved_models/model-019-68.6116.h5\n",
      "Epoch 20/1000\n",
      "624/624 [==============================] - 635s 1s/step - loss: 67.9542 - val_loss: 69.7837\n",
      "\n",
      "Epoch 00020: saving model to saved_models/model-020-67.9542.h5\n",
      "Epoch 21/1000\n",
      "624/624 [==============================] - 634s 1s/step - loss: 67.2663 - val_loss: 69.8525\n",
      "\n",
      "Epoch 00021: saving model to saved_models/model-021-67.2663.h5\n",
      "Epoch 22/1000\n",
      "624/624 [==============================] - 637s 1s/step - loss: 66.7228 - val_loss: 69.7888\n",
      "\n",
      "Epoch 00022: saving model to saved_models/model-022-66.7228.h5\n",
      "Epoch 23/1000\n",
      "624/624 [==============================] - 633s 1s/step - loss: 66.1822 - val_loss: 70.1784\n",
      "\n",
      "Epoch 00023: saving model to saved_models/model-023-66.1822.h5\n",
      "Epoch 24/1000\n",
      "624/624 [==============================] - 633s 1s/step - loss: 65.7318 - val_loss: 84.2828\n",
      "\n",
      "Epoch 00024: saving model to saved_models/model-024-65.7318.h5\n",
      "Epoch 25/1000\n",
      "624/624 [==============================] - 633s 1s/step - loss: 65.5853 - val_loss: 126.7341\n",
      "\n",
      "Epoch 00025: saving model to saved_models/model-025-65.5853.h5\n",
      "Epoch 26/1000\n",
      "624/624 [==============================] - 636s 1s/step - loss: 65.4738 - val_loss: 80.8876\n",
      "\n",
      "Epoch 00026: saving model to saved_models/model-026-65.4738.h5\n",
      "Epoch 27/1000\n",
      "624/624 [==============================] - 1021s 2s/step - loss: 65.2224 - val_loss: 122.8288\n",
      "\n",
      "Epoch 00027: saving model to saved_models/model-027-65.2224.h5\n",
      "Epoch 28/1000\n",
      "624/624 [==============================] - 1055s 2s/step - loss: 65.2910 - val_loss: 93.8868\n",
      "\n",
      "Epoch 00028: saving model to saved_models/model-028-65.2910.h5\n"
     ]
    }
   ],
   "source": [
    "# Training\n",
    "\n",
    "num_epoch = 1000\n",
    "\n",
    "callbacks = [\n",
    "    ModelCheckpoint(\n",
    "        os.path.join(dt_config.SAVED_MODELS_PATH, \"model-{epoch:03d}-{loss:.4f}.h5\"),\n",
    "        monitor=\"val_loss\",\n",
    "        verbose=1,\n",
    "        save_best_only=False,\n",
    "        mode=\"auto\",\n",
    "        save_freq=\"epoch\",\n",
    "    ),    \n",
    "    EarlyStopping(\n",
    "        monitor=\"val_loss\", min_delta=0, patience=10, verbose=0, mode=\"auto\"\n",
    "    ),\n",
    "]\n",
    "\n",
    "\n",
    "history = model.fit(\n",
    "        train_set,       \n",
    "        validation_data=val_set,      \n",
    "        epochs=num_epoch,\n",
    "        callbacks=callbacks,\n",
    "        shuffle=True,\n",
    "    )"
   ]
  }
 ],
 "metadata": {
  "interpreter": {
   "hash": "65d2dd740cffc29456798f67bc0916d75c7715a7c9ae002b5fffd00f4049a0fc"
  },
  "kernelspec": {
   "display_name": "Python StixelNet",
   "language": "python",
   "name": "python3"
  },
  "language_info": {
   "codemirror_mode": {
    "name": "ipython",
    "version": 3
   },
   "file_extension": ".py",
   "mimetype": "text/x-python",
   "name": "python",
   "nbconvert_exporter": "python",
   "pygments_lexer": "ipython3",
   "version": "3.9.7"
  }
 },
 "nbformat": 4,
 "nbformat_minor": 5
}
