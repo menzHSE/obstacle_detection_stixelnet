{
 "cells": [
  {
   "cell_type": "code",
   "execution_count": 1,
   "id": "50c748aa-1b9e-40f2-9aac-6dfbf6e9f7e5",
   "metadata": {},
   "outputs": [
    {
     "name": "stderr",
     "output_type": "stream",
     "text": [
      "2022-03-11 18:59:19.327445: I tensorflow/stream_executor/platform/default/dso_loader.cc:49] Successfully opened dynamic library libcudart.so.10.1\n"
     ]
    }
   ],
   "source": [
    "from __future__ import print_function\n",
    "import os\n",
    "import sys\n",
    "import cv2\n",
    "from matplotlib import pyplot as plt\n",
    "import numpy as np\n",
    "\n",
    "from local_config import CURRENT_DIR\n",
    "sys.path.append(os.path.join(CURRENT_DIR, \"..\"))\n",
    "\n",
    "try:\n",
    "    from config import Config\n",
    "    from data_loader import WaymoStixelDataset\n",
    "except:\n",
    "    print(\"failed to load module\")\n",
    "    \n",
    "from albumentations import (\n",
    "    Resize,\n",
    "    Compose,\n",
    "    CLAHE,\n",
    "    HueSaturationValue,\n",
    "    RandomBrightness,\n",
    "    RandomContrast,\n",
    "    RandomGamma,\n",
    "    ToFloat,\n",
    "    Normalize,\n",
    "    GaussNoise,\n",
    "    RandomShadow,\n",
    "    RandomRain,\n",
    ")\n",
    "\n",
    "import utility\n",
    "import importlib\n",
    "from models.stixel_net import build_stixel_net_inceptionV3\n",
    "\n",
    "# TensorFlow\n",
    "from tensorflow.keras import losses\n",
    "from tensorflow.keras import optimizers\n",
    "from tensorflow.keras.callbacks import (\n",
    "    ModelCheckpoint,\n",
    "    ReduceLROnPlateau,\n",
    "    EarlyStopping,\n",
    ")"
   ]
  },
  {
   "cell_type": "code",
   "execution_count": 2,
   "id": "d25a964d-1f24-4f61-b539-cb3aa59867da",
   "metadata": {},
   "outputs": [
    {
     "name": "stdout",
     "output_type": "stream",
     "text": [
      "\n",
      "Configurations:\n",
      "CURRENT_DIR                    /home/menz/StixelNet/obstacle_detection_stixelnet\n",
      "DATA_PATH                      /home/menz/StixelNet/obstacle_detection_stixelnet/data/StixelNet_Waymo\n",
      "GROUND_TRUTH_PATH              /home/menz/StixelNet/obstacle_detection_stixelnet/data/StixelNet_Waymo/waymo_train.txt\n",
      "NUM_EPOCHS                     50\n",
      "SAVED_MODELS_PATH              saved_models\n",
      "\n",
      "\n"
     ]
    }
   ],
   "source": [
    "dt_config = Config()\n",
    "dt_config.display()"
   ]
  },
  {
   "cell_type": "code",
   "execution_count": 3,
   "id": "1ae3ba3f-2084-47c9-82ab-a75d4e12d3a2",
   "metadata": {},
   "outputs": [
    {
     "name": "stderr",
     "output_type": "stream",
     "text": [
      "/home/menz/miniconda3/envs/StixelNet-TF/lib/python3.9/site-packages/albumentations/augmentations/transforms.py:1826: FutureWarning: This class has been deprecated. Please use RandomBrightnessContrast\n",
      "  warnings.warn(\n",
      "/home/menz/miniconda3/envs/StixelNet-TF/lib/python3.9/site-packages/albumentations/augmentations/transforms.py:1800: FutureWarning: This class has been deprecated. Please use RandomBrightnessContrast\n",
      "  warnings.warn(\n"
     ]
    }
   ],
   "source": [
    "## Train and Val set\n",
    "\n",
    "\n",
    "train_aug = Compose(\n",
    "    [\n",
    "        GaussNoise(p=1.0),\n",
    "        RandomShadow(p=0.5),\n",
    "        RandomRain(p=0.5, rain_type=\"drizzle\"),\n",
    "        RandomContrast(limit=0.2, p=0.5),\n",
    "        RandomGamma(gamma_limit=(80, 120), p=0.5),\n",
    "        RandomBrightness(limit=0.2, p=0.5),\n",
    "        HueSaturationValue(\n",
    "            hue_shift_limit=5, sat_shift_limit=20, val_shift_limit=10, p=0.5\n",
    "        ),\n",
    "        CLAHE(p=0.5, clip_limit=2.0),\n",
    "        Normalize(p=1.0),\n",
    "    ]\n",
    ")\n",
    "    \n",
    "# AUGMENTATIONS DISABLED\n",
    "train_set = WaymoStixelDataset(\n",
    "        data_path=dt_config.DATA_PATH,\n",
    "        ground_truth_path=os.path.join(dt_config.DATA_PATH, \"waymo_train.txt\"),\n",
    "        batch_size=8,\n",
    "        transform=None,\n",
    "        customized_transform=utility.HorizontalFlip(p=0.5),\n",
    "    )\n",
    "\n",
    "\n",
    "\n",
    "\n",
    "val_aug = Compose([Normalize(p=1.0)])\n",
    "val_set = WaymoStixelDataset(\n",
    "        data_path=dt_config.DATA_PATH,\n",
    "        ground_truth_path=os.path.join(dt_config.DATA_PATH, \"waymo_val.txt\"),\n",
    "        transform=None,\n",
    "    )\n"
   ]
  },
  {
   "cell_type": "code",
   "execution_count": 4,
   "id": "3376a5a0-9abd-4698-9190-766b3823b8d4",
   "metadata": {},
   "outputs": [
    {
     "name": "stderr",
     "output_type": "stream",
     "text": [
      "2022-03-11 18:59:25.475313: I tensorflow/compiler/jit/xla_cpu_device.cc:41] Not creating XLA devices, tf_xla_enable_xla_devices not set\n",
      "2022-03-11 18:59:25.483292: I tensorflow/stream_executor/platform/default/dso_loader.cc:49] Successfully opened dynamic library libcuda.so.1\n",
      "2022-03-11 18:59:25.529943: I tensorflow/stream_executor/cuda/cuda_gpu_executor.cc:941] successful NUMA node read from SysFS had negative value (-1), but there must be at least one NUMA node, so returning NUMA node zero\n",
      "2022-03-11 18:59:25.530111: I tensorflow/core/common_runtime/gpu/gpu_device.cc:1720] Found device 0 with properties: \n",
      "pciBusID: 0000:01:00.0 name: NVIDIA GeForce GTX TITAN X computeCapability: 5.2\n",
      "coreClock: 1.076GHz coreCount: 24 deviceMemorySize: 11.92GiB deviceMemoryBandwidth: 313.37GiB/s\n",
      "2022-03-11 18:59:25.530138: I tensorflow/stream_executor/platform/default/dso_loader.cc:49] Successfully opened dynamic library libcudart.so.10.1\n",
      "2022-03-11 18:59:25.561758: I tensorflow/stream_executor/platform/default/dso_loader.cc:49] Successfully opened dynamic library libcublas.so.10\n",
      "2022-03-11 18:59:25.561871: I tensorflow/stream_executor/platform/default/dso_loader.cc:49] Successfully opened dynamic library libcublasLt.so.10\n",
      "2022-03-11 18:59:25.581021: I tensorflow/stream_executor/platform/default/dso_loader.cc:49] Successfully opened dynamic library libcufft.so.10\n",
      "2022-03-11 18:59:25.586120: I tensorflow/stream_executor/platform/default/dso_loader.cc:49] Successfully opened dynamic library libcurand.so.10\n",
      "2022-03-11 18:59:25.623418: I tensorflow/stream_executor/platform/default/dso_loader.cc:49] Successfully opened dynamic library libcusolver.so.10\n",
      "2022-03-11 18:59:25.628531: I tensorflow/stream_executor/platform/default/dso_loader.cc:49] Successfully opened dynamic library libcusparse.so.10\n",
      "2022-03-11 18:59:25.681499: I tensorflow/stream_executor/platform/default/dso_loader.cc:49] Successfully opened dynamic library libcudnn.so.7\n",
      "2022-03-11 18:59:25.681704: I tensorflow/stream_executor/cuda/cuda_gpu_executor.cc:941] successful NUMA node read from SysFS had negative value (-1), but there must be at least one NUMA node, so returning NUMA node zero\n",
      "2022-03-11 18:59:25.681932: I tensorflow/stream_executor/cuda/cuda_gpu_executor.cc:941] successful NUMA node read from SysFS had negative value (-1), but there must be at least one NUMA node, so returning NUMA node zero\n",
      "2022-03-11 18:59:25.682046: I tensorflow/core/common_runtime/gpu/gpu_device.cc:1862] Adding visible gpu devices: 0\n",
      "2022-03-11 18:59:25.683213: I tensorflow/core/platform/cpu_feature_guard.cc:142] This TensorFlow binary is optimized with oneAPI Deep Neural Network Library (oneDNN) to use the following CPU instructions in performance-critical operations:  SSE4.1 SSE4.2 AVX\n",
      "To enable them in other operations, rebuild TensorFlow with the appropriate compiler flags.\n",
      "2022-03-11 18:59:25.683687: I tensorflow/stream_executor/cuda/cuda_gpu_executor.cc:941] successful NUMA node read from SysFS had negative value (-1), but there must be at least one NUMA node, so returning NUMA node zero\n",
      "2022-03-11 18:59:25.683857: I tensorflow/core/common_runtime/gpu/gpu_device.cc:1720] Found device 0 with properties: \n",
      "pciBusID: 0000:01:00.0 name: NVIDIA GeForce GTX TITAN X computeCapability: 5.2\n",
      "coreClock: 1.076GHz coreCount: 24 deviceMemorySize: 11.92GiB deviceMemoryBandwidth: 313.37GiB/s\n",
      "2022-03-11 18:59:25.683897: I tensorflow/stream_executor/platform/default/dso_loader.cc:49] Successfully opened dynamic library libcudart.so.10.1\n",
      "2022-03-11 18:59:25.683931: I tensorflow/stream_executor/platform/default/dso_loader.cc:49] Successfully opened dynamic library libcublas.so.10\n",
      "2022-03-11 18:59:25.683959: I tensorflow/stream_executor/platform/default/dso_loader.cc:49] Successfully opened dynamic library libcublasLt.so.10\n",
      "2022-03-11 18:59:25.683985: I tensorflow/stream_executor/platform/default/dso_loader.cc:49] Successfully opened dynamic library libcufft.so.10\n",
      "2022-03-11 18:59:25.684013: I tensorflow/stream_executor/platform/default/dso_loader.cc:49] Successfully opened dynamic library libcurand.so.10\n",
      "2022-03-11 18:59:25.684039: I tensorflow/stream_executor/platform/default/dso_loader.cc:49] Successfully opened dynamic library libcusolver.so.10\n",
      "2022-03-11 18:59:25.684068: I tensorflow/stream_executor/platform/default/dso_loader.cc:49] Successfully opened dynamic library libcusparse.so.10\n",
      "2022-03-11 18:59:25.684095: I tensorflow/stream_executor/platform/default/dso_loader.cc:49] Successfully opened dynamic library libcudnn.so.7\n",
      "2022-03-11 18:59:25.684175: I tensorflow/stream_executor/cuda/cuda_gpu_executor.cc:941] successful NUMA node read from SysFS had negative value (-1), but there must be at least one NUMA node, so returning NUMA node zero\n",
      "2022-03-11 18:59:25.684355: I tensorflow/stream_executor/cuda/cuda_gpu_executor.cc:941] successful NUMA node read from SysFS had negative value (-1), but there must be at least one NUMA node, so returning NUMA node zero\n",
      "2022-03-11 18:59:25.684471: I tensorflow/core/common_runtime/gpu/gpu_device.cc:1862] Adding visible gpu devices: 0\n",
      "2022-03-11 18:59:25.684977: I tensorflow/stream_executor/platform/default/dso_loader.cc:49] Successfully opened dynamic library libcudart.so.10.1\n",
      "2022-03-11 18:59:26.770180: I tensorflow/core/common_runtime/gpu/gpu_device.cc:1261] Device interconnect StreamExecutor with strength 1 edge matrix:\n",
      "2022-03-11 18:59:26.770214: I tensorflow/core/common_runtime/gpu/gpu_device.cc:1267]      0 \n",
      "2022-03-11 18:59:26.770222: I tensorflow/core/common_runtime/gpu/gpu_device.cc:1280] 0:   N \n",
      "2022-03-11 18:59:26.770666: I tensorflow/stream_executor/cuda/cuda_gpu_executor.cc:941] successful NUMA node read from SysFS had negative value (-1), but there must be at least one NUMA node, so returning NUMA node zero\n",
      "2022-03-11 18:59:26.770879: I tensorflow/stream_executor/cuda/cuda_gpu_executor.cc:941] successful NUMA node read from SysFS had negative value (-1), but there must be at least one NUMA node, so returning NUMA node zero\n",
      "2022-03-11 18:59:26.771056: I tensorflow/stream_executor/cuda/cuda_gpu_executor.cc:941] successful NUMA node read from SysFS had negative value (-1), but there must be at least one NUMA node, so returning NUMA node zero\n",
      "2022-03-11 18:59:26.771189: I tensorflow/core/common_runtime/gpu/gpu_device.cc:1406] Created TensorFlow device (/job:localhost/replica:0/task:0/device:GPU:0 with 11264 MB memory) -> physical GPU (device: 0, name: NVIDIA GeForce GTX TITAN X, pci bus id: 0000:01:00.0, compute capability: 5.2)\n",
      "2022-03-11 18:59:26.771526: I tensorflow/compiler/jit/xla_gpu_device.cc:99] Not creating XLA devices, tf_xla_enable_xla_devices not set\n"
     ]
    },
    {
     "name": "stdout",
     "output_type": "stream",
     "text": [
      "Model: \"model\"\n",
      "_________________________________________________________________\n",
      "Layer (type)                 Output Shape              Param #   \n",
      "=================================================================\n",
      "input_1 (InputLayer)         [(None, 1280, 1920, 3)]   0         \n",
      "_________________________________________________________________\n",
      "resizing (Resizing)          (None, 320, 480, 3)       0         \n",
      "_________________________________________________________________\n",
      "tf.math.truediv (TFOpLambda) (None, 320, 480, 3)       0         \n",
      "_________________________________________________________________\n",
      "tf.math.subtract (TFOpLambda (None, 320, 480, 3)       0         \n",
      "_________________________________________________________________\n",
      "inception_resnet_v2 (Functio (None, 8, 13, 1536)       54336736  \n",
      "_________________________________________________________________\n",
      "flatten (Flatten)            (None, 159744)            0         \n",
      "_________________________________________________________________\n",
      "batch_normalization_203 (Bat (None, 159744)            638976    \n",
      "_________________________________________________________________\n",
      "dense (Dense)                (None, 64)                10223680  \n",
      "_________________________________________________________________\n",
      "dropout (Dropout)            (None, 64)                0         \n",
      "_________________________________________________________________\n",
      "batch_normalization_204 (Bat (None, 64)                256       \n",
      "_________________________________________________________________\n",
      "dense_1 (Dense)              (None, 128)               8320      \n",
      "_________________________________________________________________\n",
      "dropout_1 (Dropout)          (None, 128)               0         \n",
      "_________________________________________________________________\n",
      "batch_normalization_205 (Bat (None, 128)               512       \n",
      "_________________________________________________________________\n",
      "dense_2 (Dense)              (None, 240)               30960     \n",
      "=================================================================\n",
      "Total params: 65,239,440\n",
      "Trainable params: 10,582,832\n",
      "Non-trainable params: 54,656,608\n",
      "_________________________________________________________________\n"
     ]
    }
   ],
   "source": [
    "# StixelNet regression setup\n",
    "\n",
    "\n",
    "model = build_stixel_net_inceptionV3()\n",
    "opt = optimizers.Adam(0.01)\n",
    "lossF = losses.MeanSquaredError()\n",
    "\n",
    "model.compile(loss=lossF, optimizer=opt)\n",
    "model.summary()"
   ]
  },
  {
   "cell_type": "code",
   "execution_count": 5,
   "id": "aeb2cacc",
   "metadata": {},
   "outputs": [
    {
     "name": "stdout",
     "output_type": "stream",
     "text": [
      "(8, 1280, 1920, 3)\n",
      "(8, 240)\n"
     ]
    }
   ],
   "source": [
    "X,y = train_set[0]\n",
    "print(np.shape(X))\n",
    "print(np.shape(y))"
   ]
  },
  {
   "cell_type": "code",
   "execution_count": 6,
   "id": "e2d92573-7d17-4eaa-886d-c97e64350e98",
   "metadata": {},
   "outputs": [
    {
     "name": "stderr",
     "output_type": "stream",
     "text": [
      "2022-03-11 18:59:35.455340: I tensorflow/compiler/mlir/mlir_graph_optimization_pass.cc:116] None of the MLIR optimization passes are enabled (registered 2)\n",
      "2022-03-11 18:59:35.475412: I tensorflow/core/platform/profile_utils/cpu_utils.cc:112] CPU Frequency: 3292470000 Hz\n"
     ]
    },
    {
     "name": "stdout",
     "output_type": "stream",
     "text": [
      "Epoch 1/1000\n"
     ]
    },
    {
     "name": "stderr",
     "output_type": "stream",
     "text": [
      "2022-03-11 18:59:45.091499: I tensorflow/stream_executor/platform/default/dso_loader.cc:49] Successfully opened dynamic library libcublas.so.10\n",
      "2022-03-11 18:59:46.002611: I tensorflow/stream_executor/platform/default/dso_loader.cc:49] Successfully opened dynamic library libcudnn.so.7\n"
     ]
    },
    {
     "name": "stdout",
     "output_type": "stream",
     "text": [
      "190/624 [========>.....................] - ETA: 7:04 - loss: 632374.9576"
     ]
    }
   ],
   "source": [
    "# Training\n",
    "\n",
    "num_epoch = 1000\n",
    "\n",
    "callbacks = [\n",
    "    ModelCheckpoint(\n",
    "        os.path.join(dt_config.SAVED_MODELS_PATH, \"model-{epoch:03d}-{loss:.4f}.h5\"),\n",
    "        monitor=\"val_loss\",\n",
    "        verbose=1,\n",
    "        save_best_only=False,\n",
    "        mode=\"auto\",\n",
    "        save_freq=\"epoch\",\n",
    "    ),    \n",
    "    EarlyStopping(\n",
    "        monitor=\"val_loss\", min_delta=0, patience=10, verbose=0, mode=\"auto\"\n",
    "    ),\n",
    "]\n",
    "\n",
    "\n",
    "history = model.fit(\n",
    "        train_set,       \n",
    "        validation_data=val_set,      \n",
    "        epochs=num_epoch,\n",
    "        callbacks=callbacks,\n",
    "        shuffle=True,\n",
    "    )"
   ]
  }
 ],
 "metadata": {
  "interpreter": {
   "hash": "b4d979c0f2b07a2e75b211ad88b70225581aca2696c1becbd504a70dedd26bf6"
  },
  "kernelspec": {
   "display_name": "Python StixelNet",
   "language": "python",
   "name": "python3"
  },
  "language_info": {
   "codemirror_mode": {
    "name": "ipython",
    "version": 3
   },
   "file_extension": ".py",
   "mimetype": "text/x-python",
   "name": "python",
   "nbconvert_exporter": "python",
   "pygments_lexer": "ipython3",
   "version": "3.9.7"
  }
 },
 "nbformat": 4,
 "nbformat_minor": 5
}
