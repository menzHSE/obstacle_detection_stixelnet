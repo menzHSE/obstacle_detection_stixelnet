{
 "cells": [
  {
   "cell_type": "code",
   "execution_count": 1,
   "id": "50c748aa-1b9e-40f2-9aac-6dfbf6e9f7e5",
   "metadata": {},
   "outputs": [],
   "source": [
    "from __future__ import print_function\n",
    "import os\n",
    "import sys\n",
    "import cv2\n",
    "from matplotlib import pyplot as plt\n",
    "import numpy as np\n",
    "\n",
    "from local_config import CURRENT_DIR\n",
    "sys.path.append(os.path.join(CURRENT_DIR, \"..\"))\n",
    "\n",
    "try:\n",
    "    from config import Config\n",
    "    from data_loader import WaymoStixelDataset\n",
    "except:\n",
    "    print(\"failed to load module\")\n",
    "    \n",
    "from albumentations import (\n",
    "    Resize,\n",
    "    Compose,\n",
    "    CLAHE,\n",
    "    HueSaturationValue,\n",
    "    RandomBrightness,\n",
    "    RandomContrast,\n",
    "    RandomGamma,\n",
    "    ToFloat,\n",
    "    Normalize,\n",
    "    GaussNoise,\n",
    "    RandomShadow,\n",
    "    RandomRain,\n",
    ")\n",
    "\n",
    "import utility\n",
    "import importlib\n",
    "from models.stixel_net import build_stixel_net_inceptionV3\n",
    "\n",
    "# TensorFlow\n",
    "from tensorflow.keras import losses\n",
    "from tensorflow.keras import optimizers\n",
    "from tensorflow.keras.callbacks import (\n",
    "    ModelCheckpoint,\n",
    "    ReduceLROnPlateau,\n",
    "    EarlyStopping,\n",
    ")"
   ]
  },
  {
   "cell_type": "code",
   "execution_count": 2,
   "id": "d25a964d-1f24-4f61-b539-cb3aa59867da",
   "metadata": {},
   "outputs": [
    {
     "name": "stdout",
     "output_type": "stream",
     "text": [
      "\n",
      "Configurations:\n",
      "CURRENT_DIR                    /pfs/data5/home/es/es_es/es_menzweil/StixelNet/obstacle_detection_stixelnet\n",
      "DATA_PATH                      /pfs/data5/home/es/es_es/es_menzweil/StixelNet/obstacle_detection_stixelnet/data/StixelNet_Waymo\n",
      "GROUND_TRUTH_PATH              /pfs/data5/home/es/es_es/es_menzweil/StixelNet/obstacle_detection_stixelnet/data/StixelNet_Waymo/waymo_train.txt\n",
      "NUM_EPOCHS                     50\n",
      "SAVED_MODELS_PATH              saved_models\n",
      "\n",
      "\n"
     ]
    }
   ],
   "source": [
    "dt_config = Config()\n",
    "dt_config.display()"
   ]
  },
  {
   "cell_type": "code",
   "execution_count": 3,
   "id": "1ae3ba3f-2084-47c9-82ab-a75d4e12d3a2",
   "metadata": {},
   "outputs": [
    {
     "name": "stderr",
     "output_type": "stream",
     "text": [
      "/home/es/es_es/es_menzweil/anaconda3/lib/python3.8/site-packages/albumentations/augmentations/transforms.py:1826: FutureWarning: This class has been deprecated. Please use RandomBrightnessContrast\n",
      "  warnings.warn(\n",
      "/home/es/es_es/es_menzweil/anaconda3/lib/python3.8/site-packages/albumentations/augmentations/transforms.py:1800: FutureWarning: This class has been deprecated. Please use RandomBrightnessContrast\n",
      "  warnings.warn(\n"
     ]
    }
   ],
   "source": [
    "## Train and Val set\n",
    "\n",
    "\n",
    "train_aug = Compose(\n",
    "    [\n",
    "        GaussNoise(p=1.0),\n",
    "        RandomShadow(p=0.5),\n",
    "        RandomRain(p=0.5, rain_type=\"drizzle\"),\n",
    "        RandomContrast(limit=0.2, p=0.5),\n",
    "        RandomGamma(gamma_limit=(80, 120), p=0.5),\n",
    "        RandomBrightness(limit=0.2, p=0.5),\n",
    "        HueSaturationValue(\n",
    "            hue_shift_limit=5, sat_shift_limit=20, val_shift_limit=10, p=0.5\n",
    "        ),\n",
    "        CLAHE(p=0.5, clip_limit=2.0),\n",
    "        Normalize(p=1.0),\n",
    "    ]\n",
    ")\n",
    "    \n",
    "# AUGMENTATIONS DISABLED\n",
    "train_set = WaymoStixelDataset(\n",
    "        data_path=dt_config.DATA_PATH,\n",
    "        ground_truth_path=os.path.join(dt_config.DATA_PATH, \"waymo_train.txt\"),\n",
    "        batch_size=8,\n",
    "        transform=None,\n",
    "        customized_transform=utility.HorizontalFlip(p=0.5),\n",
    "    )\n",
    "\n",
    "\n",
    "\n",
    "\n",
    "val_aug = Compose([Normalize(p=1.0)])\n",
    "val_set = WaymoStixelDataset(\n",
    "        data_path=dt_config.DATA_PATH,\n",
    "        ground_truth_path=os.path.join(dt_config.DATA_PATH, \"waymo_val.txt\"),\n",
    "        transform=None,\n",
    "    )\n"
   ]
  },
  {
   "cell_type": "code",
   "execution_count": 4,
   "id": "3376a5a0-9abd-4698-9190-766b3823b8d4",
   "metadata": {},
   "outputs": [
    {
     "name": "stderr",
     "output_type": "stream",
     "text": [
      "2022-03-11 20:06:49.960989: I tensorflow/core/platform/cpu_feature_guard.cc:151] This TensorFlow binary is optimized with oneAPI Deep Neural Network Library (oneDNN) to use the following CPU instructions in performance-critical operations:  AVX2 AVX512F FMA\n",
      "To enable them in other operations, rebuild TensorFlow with the appropriate compiler flags.\n",
      "2022-03-11 20:06:57.216693: I tensorflow/core/common_runtime/gpu/gpu_device.cc:1525] Created device /job:localhost/replica:0/task:0/device:GPU:0 with 30980 MB memory:  -> device: 0, name: Tesla V100-SXM2-32GB, pci bus id: 0000:b3:00.0, compute capability: 7.0\n",
      "\n",
      "KeyboardInterrupt\n",
      "\n"
     ]
    }
   ],
   "source": [
    "# StixelNet regression setup\n",
    "\n",
    "\n",
    "model = build_stixel_net_inceptionV3()\n",
    "opt = optimizers.Adam(0.001)\n",
    "lossF = losses.MeanSquaredError()\n",
    "\n",
    "model.compile(loss=lossF, optimizer=opt)\n",
    "model.summary()"
   ]
  },
  {
   "cell_type": "code",
   "execution_count": null,
   "id": "aeb2cacc",
   "metadata": {},
   "outputs": [],
   "source": [
    "X,y = train_set[0]\n",
    "print(np.shape(X))\n",
    "print(np.shape(y))"
   ]
  },
  {
   "cell_type": "code",
   "execution_count": null,
   "id": "e2d92573-7d17-4eaa-886d-c97e64350e98",
   "metadata": {},
   "outputs": [],
   "source": [
    "# Training\n",
    "\n",
    "num_epoch = 1000\n",
    "\n",
    "callbacks = [\n",
    "    ModelCheckpoint(\n",
    "        os.path.join(dt_config.SAVED_MODELS_PATH, \"model-{epoch:03d}-{loss:.4f}.h5\"),\n",
    "        monitor=\"val_loss\",\n",
    "        verbose=1,\n",
    "        save_best_only=False,\n",
    "        mode=\"auto\",\n",
    "        save_freq=\"epoch\",\n",
    "    ),    \n",
    "    EarlyStopping(\n",
    "        monitor=\"val_loss\", min_delta=0, patience=10, verbose=0, mode=\"auto\"\n",
    "    ),\n",
    "]\n",
    "\n",
    "\n",
    "history = model.fit(\n",
    "        train_set,       \n",
    "        validation_data=val_set,      \n",
    "        epochs=num_epoch,\n",
    "        callbacks=callbacks,\n",
    "        shuffle=True,\n",
    "    )"
   ]
  }
 ],
 "metadata": {
  "interpreter": {
   "hash": "b4d979c0f2b07a2e75b211ad88b70225581aca2696c1becbd504a70dedd26bf6"
  },
  "kernelspec": {
   "display_name": "Python StixelNet",
   "language": "python",
   "name": "stixelnet"
  },
  "language_info": {
   "codemirror_mode": {
    "name": "ipython",
    "version": 3
   },
   "file_extension": ".py",
   "mimetype": "text/x-python",
   "name": "python",
   "nbconvert_exporter": "python",
   "pygments_lexer": "ipython3",
   "version": "3.8.8"
  }
 },
 "nbformat": 4,
 "nbformat_minor": 5
}
