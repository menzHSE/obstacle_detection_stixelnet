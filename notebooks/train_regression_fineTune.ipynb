{
 "cells": [
  {
   "cell_type": "code",
   "execution_count": 1,
   "id": "50c748aa-1b9e-40f2-9aac-6dfbf6e9f7e5",
   "metadata": {},
   "outputs": [
    {
     "name": "stderr",
     "output_type": "stream",
     "text": [
      "2022-03-11 20:13:00.390383: I tensorflow/stream_executor/platform/default/dso_loader.cc:49] Successfully opened dynamic library libcudart.so.10.1\n"
     ]
    }
   ],
   "source": [
    "from __future__ import print_function\n",
    "import os\n",
    "import sys\n",
    "import cv2\n",
    "from matplotlib import pyplot as plt\n",
    "import numpy as np\n",
    "\n",
    "from local_config import CURRENT_DIR\n",
    "sys.path.append(os.path.join(CURRENT_DIR, \"..\"))\n",
    "\n",
    "try:\n",
    "    from config import Config\n",
    "    from data_loader import WaymoStixelDataset\n",
    "except:\n",
    "    print(\"failed to load module\")\n",
    "    \n",
    "from albumentations import (\n",
    "    Resize,\n",
    "    Compose,\n",
    "    CLAHE,\n",
    "    HueSaturationValue,\n",
    "    RandomBrightness,\n",
    "    RandomContrast,\n",
    "    RandomGamma,\n",
    "    ToFloat,\n",
    "    Normalize,\n",
    "    GaussNoise,\n",
    "    RandomShadow,\n",
    "    RandomRain,\n",
    ")\n",
    "\n",
    "import utility\n",
    "import importlib\n",
    "from models.stixel_net import build_stixel_net_inceptionV3\n",
    "\n",
    "# TensorFlow\n",
    "from tensorflow.keras import losses\n",
    "from tensorflow.keras import optimizers\n",
    "from tensorflow.keras.callbacks import (\n",
    "    ModelCheckpoint,\n",
    "    ReduceLROnPlateau,\n",
    "    EarlyStopping,\n",
    ")"
   ]
  },
  {
   "cell_type": "code",
   "execution_count": 2,
   "id": "d25a964d-1f24-4f61-b539-cb3aa59867da",
   "metadata": {},
   "outputs": [
    {
     "name": "stdout",
     "output_type": "stream",
     "text": [
      "\n",
      "Configurations:\n",
      "CURRENT_DIR                    /home/menz/StixelNet/obstacle_detection_stixelnet\n",
      "DATA_PATH                      /home/menz/StixelNet/obstacle_detection_stixelnet/data/StixelNet_Waymo\n",
      "GROUND_TRUTH_PATH              /home/menz/StixelNet/obstacle_detection_stixelnet/data/StixelNet_Waymo/waymo_train.txt\n",
      "NUM_EPOCHS                     50\n",
      "SAVED_MODELS_PATH              saved_models\n",
      "\n",
      "\n"
     ]
    }
   ],
   "source": [
    "dt_config = Config()\n",
    "dt_config.display()"
   ]
  },
  {
   "cell_type": "code",
   "execution_count": 3,
   "id": "1ae3ba3f-2084-47c9-82ab-a75d4e12d3a2",
   "metadata": {},
   "outputs": [
    {
     "name": "stderr",
     "output_type": "stream",
     "text": [
      "/home/menz/miniconda3/envs/StixelNet-TF/lib/python3.9/site-packages/albumentations/augmentations/transforms.py:1826: FutureWarning: This class has been deprecated. Please use RandomBrightnessContrast\n",
      "  warnings.warn(\n",
      "/home/menz/miniconda3/envs/StixelNet-TF/lib/python3.9/site-packages/albumentations/augmentations/transforms.py:1800: FutureWarning: This class has been deprecated. Please use RandomBrightnessContrast\n",
      "  warnings.warn(\n"
     ]
    }
   ],
   "source": [
    "## Train and Val set\n",
    "\n",
    "\n",
    "train_aug = Compose(\n",
    "    [\n",
    "        GaussNoise(p=1.0),\n",
    "        RandomShadow(p=0.5),\n",
    "        RandomRain(p=0.5, rain_type=\"drizzle\"),\n",
    "        RandomContrast(limit=0.2, p=0.5),\n",
    "        RandomGamma(gamma_limit=(80, 120), p=0.5),\n",
    "        RandomBrightness(limit=0.2, p=0.5),\n",
    "        HueSaturationValue(\n",
    "            hue_shift_limit=5, sat_shift_limit=20, val_shift_limit=10, p=0.5\n",
    "        ),\n",
    "        CLAHE(p=0.5, clip_limit=2.0),\n",
    "        Normalize(p=1.0),\n",
    "    ]\n",
    ")\n",
    "    \n",
    "# AUGMENTATIONS DISABLED\n",
    "train_set = WaymoStixelDataset(\n",
    "        data_path=dt_config.DATA_PATH,\n",
    "        ground_truth_path=os.path.join(dt_config.DATA_PATH, \"waymo_train.txt\"),\n",
    "        batch_size=8,\n",
    "        transform=None,\n",
    "        customized_transform=utility.HorizontalFlip(p=0.5),\n",
    "    )\n",
    "\n",
    "\n",
    "\n",
    "\n",
    "val_aug = Compose([Normalize(p=1.0)])\n",
    "val_set = WaymoStixelDataset(\n",
    "        data_path=dt_config.DATA_PATH,\n",
    "        ground_truth_path=os.path.join(dt_config.DATA_PATH, \"waymo_val.txt\"),\n",
    "        transform=None,\n",
    "    )\n"
   ]
  },
  {
   "cell_type": "code",
   "execution_count": 4,
   "id": "3376a5a0-9abd-4698-9190-766b3823b8d4",
   "metadata": {},
   "outputs": [
    {
     "name": "stderr",
     "output_type": "stream",
     "text": [
      "2022-03-11 20:13:07.502549: I tensorflow/compiler/jit/xla_cpu_device.cc:41] Not creating XLA devices, tf_xla_enable_xla_devices not set\n",
      "2022-03-11 20:13:07.503701: I tensorflow/stream_executor/platform/default/dso_loader.cc:49] Successfully opened dynamic library libcuda.so.1\n",
      "2022-03-11 20:13:07.560741: I tensorflow/stream_executor/cuda/cuda_gpu_executor.cc:941] successful NUMA node read from SysFS had negative value (-1), but there must be at least one NUMA node, so returning NUMA node zero\n",
      "2022-03-11 20:13:07.560917: I tensorflow/core/common_runtime/gpu/gpu_device.cc:1720] Found device 0 with properties: \n",
      "pciBusID: 0000:01:00.0 name: NVIDIA GeForce GTX TITAN X computeCapability: 5.2\n",
      "coreClock: 1.076GHz coreCount: 24 deviceMemorySize: 11.92GiB deviceMemoryBandwidth: 313.37GiB/s\n",
      "2022-03-11 20:13:07.560942: I tensorflow/stream_executor/platform/default/dso_loader.cc:49] Successfully opened dynamic library libcudart.so.10.1\n",
      "2022-03-11 20:13:07.597043: I tensorflow/stream_executor/platform/default/dso_loader.cc:49] Successfully opened dynamic library libcublas.so.10\n",
      "2022-03-11 20:13:07.597182: I tensorflow/stream_executor/platform/default/dso_loader.cc:49] Successfully opened dynamic library libcublasLt.so.10\n",
      "2022-03-11 20:13:07.616417: I tensorflow/stream_executor/platform/default/dso_loader.cc:49] Successfully opened dynamic library libcufft.so.10\n",
      "2022-03-11 20:13:07.621696: I tensorflow/stream_executor/platform/default/dso_loader.cc:49] Successfully opened dynamic library libcurand.so.10\n",
      "2022-03-11 20:13:07.658358: I tensorflow/stream_executor/platform/default/dso_loader.cc:49] Successfully opened dynamic library libcusolver.so.10\n",
      "2022-03-11 20:13:07.663539: I tensorflow/stream_executor/platform/default/dso_loader.cc:49] Successfully opened dynamic library libcusparse.so.10\n",
      "2022-03-11 20:13:07.724731: I tensorflow/stream_executor/platform/default/dso_loader.cc:49] Successfully opened dynamic library libcudnn.so.7\n",
      "2022-03-11 20:13:07.724946: I tensorflow/stream_executor/cuda/cuda_gpu_executor.cc:941] successful NUMA node read from SysFS had negative value (-1), but there must be at least one NUMA node, so returning NUMA node zero\n",
      "2022-03-11 20:13:07.725179: I tensorflow/stream_executor/cuda/cuda_gpu_executor.cc:941] successful NUMA node read from SysFS had negative value (-1), but there must be at least one NUMA node, so returning NUMA node zero\n",
      "2022-03-11 20:13:07.725299: I tensorflow/core/common_runtime/gpu/gpu_device.cc:1862] Adding visible gpu devices: 0\n",
      "2022-03-11 20:13:07.725795: I tensorflow/core/platform/cpu_feature_guard.cc:142] This TensorFlow binary is optimized with oneAPI Deep Neural Network Library (oneDNN) to use the following CPU instructions in performance-critical operations:  SSE4.1 SSE4.2 AVX\n",
      "To enable them in other operations, rebuild TensorFlow with the appropriate compiler flags.\n",
      "2022-03-11 20:13:07.726222: I tensorflow/stream_executor/cuda/cuda_gpu_executor.cc:941] successful NUMA node read from SysFS had negative value (-1), but there must be at least one NUMA node, so returning NUMA node zero\n",
      "2022-03-11 20:13:07.726368: I tensorflow/core/common_runtime/gpu/gpu_device.cc:1720] Found device 0 with properties: \n",
      "pciBusID: 0000:01:00.0 name: NVIDIA GeForce GTX TITAN X computeCapability: 5.2\n",
      "coreClock: 1.076GHz coreCount: 24 deviceMemorySize: 11.92GiB deviceMemoryBandwidth: 313.37GiB/s\n",
      "2022-03-11 20:13:07.726404: I tensorflow/stream_executor/platform/default/dso_loader.cc:49] Successfully opened dynamic library libcudart.so.10.1\n",
      "2022-03-11 20:13:07.726438: I tensorflow/stream_executor/platform/default/dso_loader.cc:49] Successfully opened dynamic library libcublas.so.10\n",
      "2022-03-11 20:13:07.726463: I tensorflow/stream_executor/platform/default/dso_loader.cc:49] Successfully opened dynamic library libcublasLt.so.10\n",
      "2022-03-11 20:13:07.726488: I tensorflow/stream_executor/platform/default/dso_loader.cc:49] Successfully opened dynamic library libcufft.so.10\n",
      "2022-03-11 20:13:07.726513: I tensorflow/stream_executor/platform/default/dso_loader.cc:49] Successfully opened dynamic library libcurand.so.10\n",
      "2022-03-11 20:13:07.726538: I tensorflow/stream_executor/platform/default/dso_loader.cc:49] Successfully opened dynamic library libcusolver.so.10\n",
      "2022-03-11 20:13:07.726564: I tensorflow/stream_executor/platform/default/dso_loader.cc:49] Successfully opened dynamic library libcusparse.so.10\n",
      "2022-03-11 20:13:07.726590: I tensorflow/stream_executor/platform/default/dso_loader.cc:49] Successfully opened dynamic library libcudnn.so.7\n",
      "2022-03-11 20:13:07.726664: I tensorflow/stream_executor/cuda/cuda_gpu_executor.cc:941] successful NUMA node read from SysFS had negative value (-1), but there must be at least one NUMA node, so returning NUMA node zero\n",
      "2022-03-11 20:13:07.726833: I tensorflow/stream_executor/cuda/cuda_gpu_executor.cc:941] successful NUMA node read from SysFS had negative value (-1), but there must be at least one NUMA node, so returning NUMA node zero\n",
      "2022-03-11 20:13:07.726958: I tensorflow/core/common_runtime/gpu/gpu_device.cc:1862] Adding visible gpu devices: 0\n",
      "2022-03-11 20:13:07.727436: I tensorflow/stream_executor/platform/default/dso_loader.cc:49] Successfully opened dynamic library libcudart.so.10.1\n",
      "2022-03-11 20:13:08.928801: I tensorflow/core/common_runtime/gpu/gpu_device.cc:1261] Device interconnect StreamExecutor with strength 1 edge matrix:\n",
      "2022-03-11 20:13:08.928849: I tensorflow/core/common_runtime/gpu/gpu_device.cc:1267]      0 \n",
      "2022-03-11 20:13:08.928862: I tensorflow/core/common_runtime/gpu/gpu_device.cc:1280] 0:   N \n",
      "2022-03-11 20:13:08.929696: I tensorflow/stream_executor/cuda/cuda_gpu_executor.cc:941] successful NUMA node read from SysFS had negative value (-1), but there must be at least one NUMA node, so returning NUMA node zero\n",
      "2022-03-11 20:13:08.930048: I tensorflow/stream_executor/cuda/cuda_gpu_executor.cc:941] successful NUMA node read from SysFS had negative value (-1), but there must be at least one NUMA node, so returning NUMA node zero\n",
      "2022-03-11 20:13:08.930349: I tensorflow/stream_executor/cuda/cuda_gpu_executor.cc:941] successful NUMA node read from SysFS had negative value (-1), but there must be at least one NUMA node, so returning NUMA node zero\n",
      "2022-03-11 20:13:08.930566: I tensorflow/core/common_runtime/gpu/gpu_device.cc:1406] Created TensorFlow device (/job:localhost/replica:0/task:0/device:GPU:0 with 11264 MB memory) -> physical GPU (device: 0, name: NVIDIA GeForce GTX TITAN X, pci bus id: 0000:01:00.0, compute capability: 5.2)\n",
      "2022-03-11 20:13:08.931516: I tensorflow/compiler/jit/xla_gpu_device.cc:99] Not creating XLA devices, tf_xla_enable_xla_devices not set\n"
     ]
    },
    {
     "name": "stdout",
     "output_type": "stream",
     "text": [
      "Model: \"model\"\n",
      "_________________________________________________________________\n",
      "Layer (type)                 Output Shape              Param #   \n",
      "=================================================================\n",
      "input_1 (InputLayer)         [(None, 1280, 1920, 3)]   0         \n",
      "_________________________________________________________________\n",
      "resizing (Resizing)          (None, 320, 480, 3)       0         \n",
      "_________________________________________________________________\n",
      "tf.math.truediv (TFOpLambda) (None, 320, 480, 3)       0         \n",
      "_________________________________________________________________\n",
      "tf.math.subtract (TFOpLambda (None, 320, 480, 3)       0         \n",
      "_________________________________________________________________\n",
      "inception_resnet_v2 (Functio (None, 8, 13, 1536)       54336736  \n",
      "_________________________________________________________________\n",
      "flatten (Flatten)            (None, 159744)            0         \n",
      "_________________________________________________________________\n",
      "batch_normalization_203 (Bat (None, 159744)            638976    \n",
      "_________________________________________________________________\n",
      "dense (Dense)                (None, 256)               40894720  \n",
      "_________________________________________________________________\n",
      "dropout (Dropout)            (None, 256)               0         \n",
      "_________________________________________________________________\n",
      "batch_normalization_204 (Bat (None, 256)               1024      \n",
      "_________________________________________________________________\n",
      "dense_1 (Dense)              (None, 512)               131584    \n",
      "_________________________________________________________________\n",
      "dropout_1 (Dropout)          (None, 512)               0         \n",
      "_________________________________________________________________\n",
      "batch_normalization_205 (Bat (None, 512)               2048      \n",
      "_________________________________________________________________\n",
      "dense_2 (Dense)              (None, 240)               123120    \n",
      "=================================================================\n",
      "Total params: 96,128,208\n",
      "Trainable params: 95,746,640\n",
      "Non-trainable params: 381,568\n",
      "_________________________________________________________________\n"
     ]
    }
   ],
   "source": [
    "# StixelNet regression setup\n",
    "\n",
    "\n",
    "model = build_stixel_net_inceptionV3()\n",
    "opt = optimizers.Adam(0.01)\n",
    "lossF = losses.MeanSquaredError()\n",
    "\n",
    "model.compile(loss=lossF, optimizer=opt)\n",
    "model.summary()"
   ]
  },
  {
   "cell_type": "code",
   "execution_count": 5,
   "id": "aeb2cacc",
   "metadata": {},
   "outputs": [
    {
     "name": "stdout",
     "output_type": "stream",
     "text": [
      "(8, 1280, 1920, 3)\n",
      "(8, 240)\n"
     ]
    }
   ],
   "source": [
    "X,y = train_set[0]\n",
    "print(np.shape(X))\n",
    "print(np.shape(y))"
   ]
  },
  {
   "cell_type": "code",
   "execution_count": 6,
   "id": "e2d92573-7d17-4eaa-886d-c97e64350e98",
   "metadata": {},
   "outputs": [
    {
     "name": "stderr",
     "output_type": "stream",
     "text": [
      "2022-03-11 20:13:17.718468: I tensorflow/compiler/mlir/mlir_graph_optimization_pass.cc:116] None of the MLIR optimization passes are enabled (registered 2)\n",
      "2022-03-11 20:13:17.739451: I tensorflow/core/platform/profile_utils/cpu_utils.cc:112] CPU Frequency: 3292470000 Hz\n"
     ]
    },
    {
     "name": "stdout",
     "output_type": "stream",
     "text": [
      "Epoch 1/1000\n"
     ]
    },
    {
     "name": "stderr",
     "output_type": "stream",
     "text": [
      "2022-03-11 20:13:35.199563: I tensorflow/stream_executor/platform/default/dso_loader.cc:49] Successfully opened dynamic library libcublas.so.10\n",
      "2022-03-11 20:13:36.048588: I tensorflow/stream_executor/platform/default/dso_loader.cc:49] Successfully opened dynamic library libcudnn.so.7\n"
     ]
    },
    {
     "name": "stdout",
     "output_type": "stream",
     "text": [
      " 74/624 [==>...........................] - ETA: 9:05 - loss: 622850.2703"
     ]
    },
    {
     "ename": "KeyboardInterrupt",
     "evalue": "",
     "output_type": "error",
     "traceback": [
      "\u001b[0;31m---------------------------------------------------------------------------\u001b[0m",
      "\u001b[0;31mKeyboardInterrupt\u001b[0m                         Traceback (most recent call last)",
      "\u001b[1;32m/home/menz/StixelNet/obstacle_detection_stixelnet/notebooks/train_regression_fineTune.ipynb Cell 6'\u001b[0m in \u001b[0;36m<cell line: 20>\u001b[0;34m()\u001b[0m\n\u001b[1;32m      <a href='vscode-notebook-cell://ssh-remote%2B192.168.2.11/home/menz/StixelNet/obstacle_detection_stixelnet/notebooks/train_regression_fineTune.ipynb#ch0000005vscode-remote?line=2'>3</a>\u001b[0m num_epoch \u001b[39m=\u001b[39m \u001b[39m1000\u001b[39m\n\u001b[1;32m      <a href='vscode-notebook-cell://ssh-remote%2B192.168.2.11/home/menz/StixelNet/obstacle_detection_stixelnet/notebooks/train_regression_fineTune.ipynb#ch0000005vscode-remote?line=4'>5</a>\u001b[0m callbacks \u001b[39m=\u001b[39m [\n\u001b[1;32m      <a href='vscode-notebook-cell://ssh-remote%2B192.168.2.11/home/menz/StixelNet/obstacle_detection_stixelnet/notebooks/train_regression_fineTune.ipynb#ch0000005vscode-remote?line=5'>6</a>\u001b[0m     ModelCheckpoint(\n\u001b[1;32m      <a href='vscode-notebook-cell://ssh-remote%2B192.168.2.11/home/menz/StixelNet/obstacle_detection_stixelnet/notebooks/train_regression_fineTune.ipynb#ch0000005vscode-remote?line=6'>7</a>\u001b[0m         os\u001b[39m.\u001b[39mpath\u001b[39m.\u001b[39mjoin(dt_config\u001b[39m.\u001b[39mSAVED_MODELS_PATH, \u001b[39m\"\u001b[39m\u001b[39mmodel-\u001b[39m\u001b[39m{epoch:03d}\u001b[39;00m\u001b[39m-\u001b[39m\u001b[39m{loss:.4f}\u001b[39;00m\u001b[39m.h5\u001b[39m\u001b[39m\"\u001b[39m),\n\u001b[0;32m   (...)\u001b[0m\n\u001b[1;32m     <a href='vscode-notebook-cell://ssh-remote%2B192.168.2.11/home/menz/StixelNet/obstacle_detection_stixelnet/notebooks/train_regression_fineTune.ipynb#ch0000005vscode-remote?line=15'>16</a>\u001b[0m     ),\n\u001b[1;32m     <a href='vscode-notebook-cell://ssh-remote%2B192.168.2.11/home/menz/StixelNet/obstacle_detection_stixelnet/notebooks/train_regression_fineTune.ipynb#ch0000005vscode-remote?line=16'>17</a>\u001b[0m ]\n\u001b[0;32m---> <a href='vscode-notebook-cell://ssh-remote%2B192.168.2.11/home/menz/StixelNet/obstacle_detection_stixelnet/notebooks/train_regression_fineTune.ipynb#ch0000005vscode-remote?line=19'>20</a>\u001b[0m history \u001b[39m=\u001b[39m model\u001b[39m.\u001b[39;49mfit(\n\u001b[1;32m     <a href='vscode-notebook-cell://ssh-remote%2B192.168.2.11/home/menz/StixelNet/obstacle_detection_stixelnet/notebooks/train_regression_fineTune.ipynb#ch0000005vscode-remote?line=20'>21</a>\u001b[0m         train_set,       \n\u001b[1;32m     <a href='vscode-notebook-cell://ssh-remote%2B192.168.2.11/home/menz/StixelNet/obstacle_detection_stixelnet/notebooks/train_regression_fineTune.ipynb#ch0000005vscode-remote?line=21'>22</a>\u001b[0m         validation_data\u001b[39m=\u001b[39;49mval_set,      \n\u001b[1;32m     <a href='vscode-notebook-cell://ssh-remote%2B192.168.2.11/home/menz/StixelNet/obstacle_detection_stixelnet/notebooks/train_regression_fineTune.ipynb#ch0000005vscode-remote?line=22'>23</a>\u001b[0m         epochs\u001b[39m=\u001b[39;49mnum_epoch,\n\u001b[1;32m     <a href='vscode-notebook-cell://ssh-remote%2B192.168.2.11/home/menz/StixelNet/obstacle_detection_stixelnet/notebooks/train_regression_fineTune.ipynb#ch0000005vscode-remote?line=23'>24</a>\u001b[0m         callbacks\u001b[39m=\u001b[39;49mcallbacks,\n\u001b[1;32m     <a href='vscode-notebook-cell://ssh-remote%2B192.168.2.11/home/menz/StixelNet/obstacle_detection_stixelnet/notebooks/train_regression_fineTune.ipynb#ch0000005vscode-remote?line=24'>25</a>\u001b[0m         shuffle\u001b[39m=\u001b[39;49m\u001b[39mTrue\u001b[39;49;00m,\n\u001b[1;32m     <a href='vscode-notebook-cell://ssh-remote%2B192.168.2.11/home/menz/StixelNet/obstacle_detection_stixelnet/notebooks/train_regression_fineTune.ipynb#ch0000005vscode-remote?line=25'>26</a>\u001b[0m     )\n",
      "File \u001b[0;32m~/miniconda3/envs/StixelNet-TF/lib/python3.9/site-packages/tensorflow/python/keras/engine/training.py:1105\u001b[0m, in \u001b[0;36mModel.fit\u001b[0;34m(self, x, y, batch_size, epochs, verbose, callbacks, validation_split, validation_data, shuffle, class_weight, sample_weight, initial_epoch, steps_per_epoch, validation_steps, validation_batch_size, validation_freq, max_queue_size, workers, use_multiprocessing)\u001b[0m\n\u001b[1;32m   <a href='file:///home/menz/miniconda3/envs/StixelNet-TF/lib/python3.9/site-packages/tensorflow/python/keras/engine/training.py?line=1102'>1103</a>\u001b[0m logs \u001b[39m=\u001b[39m tmp_logs  \u001b[39m# No error, now safe to assign to logs.\u001b[39;00m\n\u001b[1;32m   <a href='file:///home/menz/miniconda3/envs/StixelNet-TF/lib/python3.9/site-packages/tensorflow/python/keras/engine/training.py?line=1103'>1104</a>\u001b[0m end_step \u001b[39m=\u001b[39m step \u001b[39m+\u001b[39m data_handler\u001b[39m.\u001b[39mstep_increment\n\u001b[0;32m-> <a href='file:///home/menz/miniconda3/envs/StixelNet-TF/lib/python3.9/site-packages/tensorflow/python/keras/engine/training.py?line=1104'>1105</a>\u001b[0m callbacks\u001b[39m.\u001b[39;49mon_train_batch_end(end_step, logs)\n\u001b[1;32m   <a href='file:///home/menz/miniconda3/envs/StixelNet-TF/lib/python3.9/site-packages/tensorflow/python/keras/engine/training.py?line=1105'>1106</a>\u001b[0m \u001b[39mif\u001b[39;00m \u001b[39mself\u001b[39m\u001b[39m.\u001b[39mstop_training:\n\u001b[1;32m   <a href='file:///home/menz/miniconda3/envs/StixelNet-TF/lib/python3.9/site-packages/tensorflow/python/keras/engine/training.py?line=1106'>1107</a>\u001b[0m   \u001b[39mbreak\u001b[39;00m\n",
      "File \u001b[0;32m~/miniconda3/envs/StixelNet-TF/lib/python3.9/site-packages/tensorflow/python/keras/callbacks.py:454\u001b[0m, in \u001b[0;36mCallbackList.on_train_batch_end\u001b[0;34m(self, batch, logs)\u001b[0m\n\u001b[1;32m    <a href='file:///home/menz/miniconda3/envs/StixelNet-TF/lib/python3.9/site-packages/tensorflow/python/keras/callbacks.py?line=446'>447</a>\u001b[0m \u001b[39m\"\"\"Calls the `on_train_batch_end` methods of its callbacks.\u001b[39;00m\n\u001b[1;32m    <a href='file:///home/menz/miniconda3/envs/StixelNet-TF/lib/python3.9/site-packages/tensorflow/python/keras/callbacks.py?line=447'>448</a>\u001b[0m \n\u001b[1;32m    <a href='file:///home/menz/miniconda3/envs/StixelNet-TF/lib/python3.9/site-packages/tensorflow/python/keras/callbacks.py?line=448'>449</a>\u001b[0m \u001b[39mArguments:\u001b[39;00m\n\u001b[1;32m    <a href='file:///home/menz/miniconda3/envs/StixelNet-TF/lib/python3.9/site-packages/tensorflow/python/keras/callbacks.py?line=449'>450</a>\u001b[0m \u001b[39m    batch: Integer, index of batch within the current epoch.\u001b[39;00m\n\u001b[1;32m    <a href='file:///home/menz/miniconda3/envs/StixelNet-TF/lib/python3.9/site-packages/tensorflow/python/keras/callbacks.py?line=450'>451</a>\u001b[0m \u001b[39m    logs: Dict. Aggregated metric results up until this batch.\u001b[39;00m\n\u001b[1;32m    <a href='file:///home/menz/miniconda3/envs/StixelNet-TF/lib/python3.9/site-packages/tensorflow/python/keras/callbacks.py?line=451'>452</a>\u001b[0m \u001b[39m\"\"\"\u001b[39;00m\n\u001b[1;32m    <a href='file:///home/menz/miniconda3/envs/StixelNet-TF/lib/python3.9/site-packages/tensorflow/python/keras/callbacks.py?line=452'>453</a>\u001b[0m \u001b[39mif\u001b[39;00m \u001b[39mself\u001b[39m\u001b[39m.\u001b[39m_should_call_train_batch_hooks:\n\u001b[0;32m--> <a href='file:///home/menz/miniconda3/envs/StixelNet-TF/lib/python3.9/site-packages/tensorflow/python/keras/callbacks.py?line=453'>454</a>\u001b[0m   \u001b[39mself\u001b[39;49m\u001b[39m.\u001b[39;49m_call_batch_hook(ModeKeys\u001b[39m.\u001b[39;49mTRAIN, \u001b[39m'\u001b[39;49m\u001b[39mend\u001b[39;49m\u001b[39m'\u001b[39;49m, batch, logs\u001b[39m=\u001b[39;49mlogs)\n",
      "File \u001b[0;32m~/miniconda3/envs/StixelNet-TF/lib/python3.9/site-packages/tensorflow/python/keras/callbacks.py:296\u001b[0m, in \u001b[0;36mCallbackList._call_batch_hook\u001b[0;34m(self, mode, hook, batch, logs)\u001b[0m\n\u001b[1;32m    <a href='file:///home/menz/miniconda3/envs/StixelNet-TF/lib/python3.9/site-packages/tensorflow/python/keras/callbacks.py?line=293'>294</a>\u001b[0m   \u001b[39mself\u001b[39m\u001b[39m.\u001b[39m_call_batch_begin_hook(mode, batch, logs)\n\u001b[1;32m    <a href='file:///home/menz/miniconda3/envs/StixelNet-TF/lib/python3.9/site-packages/tensorflow/python/keras/callbacks.py?line=294'>295</a>\u001b[0m \u001b[39melif\u001b[39;00m hook \u001b[39m==\u001b[39m \u001b[39m'\u001b[39m\u001b[39mend\u001b[39m\u001b[39m'\u001b[39m:\n\u001b[0;32m--> <a href='file:///home/menz/miniconda3/envs/StixelNet-TF/lib/python3.9/site-packages/tensorflow/python/keras/callbacks.py?line=295'>296</a>\u001b[0m   \u001b[39mself\u001b[39;49m\u001b[39m.\u001b[39;49m_call_batch_end_hook(mode, batch, logs)\n\u001b[1;32m    <a href='file:///home/menz/miniconda3/envs/StixelNet-TF/lib/python3.9/site-packages/tensorflow/python/keras/callbacks.py?line=296'>297</a>\u001b[0m \u001b[39melse\u001b[39;00m:\n\u001b[1;32m    <a href='file:///home/menz/miniconda3/envs/StixelNet-TF/lib/python3.9/site-packages/tensorflow/python/keras/callbacks.py?line=297'>298</a>\u001b[0m   \u001b[39mraise\u001b[39;00m \u001b[39mValueError\u001b[39;00m(\u001b[39m'\u001b[39m\u001b[39mUnrecognized hook: \u001b[39m\u001b[39m{}\u001b[39;00m\u001b[39m'\u001b[39m\u001b[39m.\u001b[39mformat(hook))\n",
      "File \u001b[0;32m~/miniconda3/envs/StixelNet-TF/lib/python3.9/site-packages/tensorflow/python/keras/callbacks.py:316\u001b[0m, in \u001b[0;36mCallbackList._call_batch_end_hook\u001b[0;34m(self, mode, batch, logs)\u001b[0m\n\u001b[1;32m    <a href='file:///home/menz/miniconda3/envs/StixelNet-TF/lib/python3.9/site-packages/tensorflow/python/keras/callbacks.py?line=312'>313</a>\u001b[0m   batch_time \u001b[39m=\u001b[39m time\u001b[39m.\u001b[39mtime() \u001b[39m-\u001b[39m \u001b[39mself\u001b[39m\u001b[39m.\u001b[39m_batch_start_time\n\u001b[1;32m    <a href='file:///home/menz/miniconda3/envs/StixelNet-TF/lib/python3.9/site-packages/tensorflow/python/keras/callbacks.py?line=313'>314</a>\u001b[0m   \u001b[39mself\u001b[39m\u001b[39m.\u001b[39m_batch_times\u001b[39m.\u001b[39mappend(batch_time)\n\u001b[0;32m--> <a href='file:///home/menz/miniconda3/envs/StixelNet-TF/lib/python3.9/site-packages/tensorflow/python/keras/callbacks.py?line=315'>316</a>\u001b[0m \u001b[39mself\u001b[39;49m\u001b[39m.\u001b[39;49m_call_batch_hook_helper(hook_name, batch, logs)\n\u001b[1;32m    <a href='file:///home/menz/miniconda3/envs/StixelNet-TF/lib/python3.9/site-packages/tensorflow/python/keras/callbacks.py?line=317'>318</a>\u001b[0m \u001b[39mif\u001b[39;00m \u001b[39mlen\u001b[39m(\u001b[39mself\u001b[39m\u001b[39m.\u001b[39m_batch_times) \u001b[39m>\u001b[39m\u001b[39m=\u001b[39m \u001b[39mself\u001b[39m\u001b[39m.\u001b[39m_num_batches_for_timing_check:\n\u001b[1;32m    <a href='file:///home/menz/miniconda3/envs/StixelNet-TF/lib/python3.9/site-packages/tensorflow/python/keras/callbacks.py?line=318'>319</a>\u001b[0m   end_hook_name \u001b[39m=\u001b[39m hook_name\n",
      "File \u001b[0;32m~/miniconda3/envs/StixelNet-TF/lib/python3.9/site-packages/tensorflow/python/keras/callbacks.py:356\u001b[0m, in \u001b[0;36mCallbackList._call_batch_hook_helper\u001b[0;34m(self, hook_name, batch, logs)\u001b[0m\n\u001b[1;32m    <a href='file:///home/menz/miniconda3/envs/StixelNet-TF/lib/python3.9/site-packages/tensorflow/python/keras/callbacks.py?line=353'>354</a>\u001b[0m hook \u001b[39m=\u001b[39m \u001b[39mgetattr\u001b[39m(callback, hook_name)\n\u001b[1;32m    <a href='file:///home/menz/miniconda3/envs/StixelNet-TF/lib/python3.9/site-packages/tensorflow/python/keras/callbacks.py?line=354'>355</a>\u001b[0m \u001b[39mif\u001b[39;00m \u001b[39mgetattr\u001b[39m(callback, \u001b[39m'\u001b[39m\u001b[39m_supports_tf_logs\u001b[39m\u001b[39m'\u001b[39m, \u001b[39mFalse\u001b[39;00m):\n\u001b[0;32m--> <a href='file:///home/menz/miniconda3/envs/StixelNet-TF/lib/python3.9/site-packages/tensorflow/python/keras/callbacks.py?line=355'>356</a>\u001b[0m   hook(batch, logs)\n\u001b[1;32m    <a href='file:///home/menz/miniconda3/envs/StixelNet-TF/lib/python3.9/site-packages/tensorflow/python/keras/callbacks.py?line=356'>357</a>\u001b[0m \u001b[39melse\u001b[39;00m:\n\u001b[1;32m    <a href='file:///home/menz/miniconda3/envs/StixelNet-TF/lib/python3.9/site-packages/tensorflow/python/keras/callbacks.py?line=357'>358</a>\u001b[0m   \u001b[39mif\u001b[39;00m numpy_logs \u001b[39mis\u001b[39;00m \u001b[39mNone\u001b[39;00m:  \u001b[39m# Only convert once.\u001b[39;00m\n",
      "File \u001b[0;32m~/miniconda3/envs/StixelNet-TF/lib/python3.9/site-packages/tensorflow/python/keras/callbacks.py:1020\u001b[0m, in \u001b[0;36mProgbarLogger.on_train_batch_end\u001b[0;34m(self, batch, logs)\u001b[0m\n\u001b[1;32m   <a href='file:///home/menz/miniconda3/envs/StixelNet-TF/lib/python3.9/site-packages/tensorflow/python/keras/callbacks.py?line=1018'>1019</a>\u001b[0m \u001b[39mdef\u001b[39;00m \u001b[39mon_train_batch_end\u001b[39m(\u001b[39mself\u001b[39m, batch, logs\u001b[39m=\u001b[39m\u001b[39mNone\u001b[39;00m):\n\u001b[0;32m-> <a href='file:///home/menz/miniconda3/envs/StixelNet-TF/lib/python3.9/site-packages/tensorflow/python/keras/callbacks.py?line=1019'>1020</a>\u001b[0m   \u001b[39mself\u001b[39;49m\u001b[39m.\u001b[39;49m_batch_update_progbar(batch, logs)\n",
      "File \u001b[0;32m~/miniconda3/envs/StixelNet-TF/lib/python3.9/site-packages/tensorflow/python/keras/callbacks.py:1084\u001b[0m, in \u001b[0;36mProgbarLogger._batch_update_progbar\u001b[0;34m(self, batch, logs)\u001b[0m\n\u001b[1;32m   <a href='file:///home/menz/miniconda3/envs/StixelNet-TF/lib/python3.9/site-packages/tensorflow/python/keras/callbacks.py?line=1079'>1080</a>\u001b[0m   \u001b[39mself\u001b[39m\u001b[39m.\u001b[39mseen \u001b[39m+\u001b[39m\u001b[39m=\u001b[39m add_seen\n\u001b[1;32m   <a href='file:///home/menz/miniconda3/envs/StixelNet-TF/lib/python3.9/site-packages/tensorflow/python/keras/callbacks.py?line=1081'>1082</a>\u001b[0m \u001b[39mif\u001b[39;00m \u001b[39mself\u001b[39m\u001b[39m.\u001b[39mverbose \u001b[39m==\u001b[39m \u001b[39m1\u001b[39m:\n\u001b[1;32m   <a href='file:///home/menz/miniconda3/envs/StixelNet-TF/lib/python3.9/site-packages/tensorflow/python/keras/callbacks.py?line=1082'>1083</a>\u001b[0m   \u001b[39m# Only block async when verbose = 1.\u001b[39;00m\n\u001b[0;32m-> <a href='file:///home/menz/miniconda3/envs/StixelNet-TF/lib/python3.9/site-packages/tensorflow/python/keras/callbacks.py?line=1083'>1084</a>\u001b[0m   logs \u001b[39m=\u001b[39m tf_utils\u001b[39m.\u001b[39;49mto_numpy_or_python_type(logs)\n\u001b[1;32m   <a href='file:///home/menz/miniconda3/envs/StixelNet-TF/lib/python3.9/site-packages/tensorflow/python/keras/callbacks.py?line=1084'>1085</a>\u001b[0m   \u001b[39mself\u001b[39m\u001b[39m.\u001b[39mprogbar\u001b[39m.\u001b[39mupdate(\u001b[39mself\u001b[39m\u001b[39m.\u001b[39mseen, \u001b[39mlist\u001b[39m(logs\u001b[39m.\u001b[39mitems()), finalize\u001b[39m=\u001b[39m\u001b[39mFalse\u001b[39;00m)\n",
      "File \u001b[0;32m~/miniconda3/envs/StixelNet-TF/lib/python3.9/site-packages/tensorflow/python/keras/utils/tf_utils.py:514\u001b[0m, in \u001b[0;36mto_numpy_or_python_type\u001b[0;34m(tensors)\u001b[0m\n\u001b[1;32m    <a href='file:///home/menz/miniconda3/envs/StixelNet-TF/lib/python3.9/site-packages/tensorflow/python/keras/utils/tf_utils.py?line=510'>511</a>\u001b[0m     \u001b[39mreturn\u001b[39;00m x\u001b[39m.\u001b[39mitem() \u001b[39mif\u001b[39;00m np\u001b[39m.\u001b[39mndim(x) \u001b[39m==\u001b[39m \u001b[39m0\u001b[39m \u001b[39melse\u001b[39;00m x\n\u001b[1;32m    <a href='file:///home/menz/miniconda3/envs/StixelNet-TF/lib/python3.9/site-packages/tensorflow/python/keras/utils/tf_utils.py?line=511'>512</a>\u001b[0m   \u001b[39mreturn\u001b[39;00m t  \u001b[39m# Don't turn ragged or sparse tensors to NumPy.\u001b[39;00m\n\u001b[0;32m--> <a href='file:///home/menz/miniconda3/envs/StixelNet-TF/lib/python3.9/site-packages/tensorflow/python/keras/utils/tf_utils.py?line=513'>514</a>\u001b[0m \u001b[39mreturn\u001b[39;00m nest\u001b[39m.\u001b[39;49mmap_structure(_to_single_numpy_or_python_type, tensors)\n",
      "File \u001b[0;32m~/miniconda3/envs/StixelNet-TF/lib/python3.9/site-packages/tensorflow/python/util/nest.py:659\u001b[0m, in \u001b[0;36mmap_structure\u001b[0;34m(func, *structure, **kwargs)\u001b[0m\n\u001b[1;32m    <a href='file:///home/menz/miniconda3/envs/StixelNet-TF/lib/python3.9/site-packages/tensorflow/python/util/nest.py?line=654'>655</a>\u001b[0m flat_structure \u001b[39m=\u001b[39m (flatten(s, expand_composites) \u001b[39mfor\u001b[39;00m s \u001b[39min\u001b[39;00m structure)\n\u001b[1;32m    <a href='file:///home/menz/miniconda3/envs/StixelNet-TF/lib/python3.9/site-packages/tensorflow/python/util/nest.py?line=655'>656</a>\u001b[0m entries \u001b[39m=\u001b[39m \u001b[39mzip\u001b[39m(\u001b[39m*\u001b[39mflat_structure)\n\u001b[1;32m    <a href='file:///home/menz/miniconda3/envs/StixelNet-TF/lib/python3.9/site-packages/tensorflow/python/util/nest.py?line=657'>658</a>\u001b[0m \u001b[39mreturn\u001b[39;00m pack_sequence_as(\n\u001b[0;32m--> <a href='file:///home/menz/miniconda3/envs/StixelNet-TF/lib/python3.9/site-packages/tensorflow/python/util/nest.py?line=658'>659</a>\u001b[0m     structure[\u001b[39m0\u001b[39m], [func(\u001b[39m*\u001b[39mx) \u001b[39mfor\u001b[39;00m x \u001b[39min\u001b[39;00m entries],\n\u001b[1;32m    <a href='file:///home/menz/miniconda3/envs/StixelNet-TF/lib/python3.9/site-packages/tensorflow/python/util/nest.py?line=659'>660</a>\u001b[0m     expand_composites\u001b[39m=\u001b[39mexpand_composites)\n",
      "File \u001b[0;32m~/miniconda3/envs/StixelNet-TF/lib/python3.9/site-packages/tensorflow/python/util/nest.py:659\u001b[0m, in \u001b[0;36m<listcomp>\u001b[0;34m(.0)\u001b[0m\n\u001b[1;32m    <a href='file:///home/menz/miniconda3/envs/StixelNet-TF/lib/python3.9/site-packages/tensorflow/python/util/nest.py?line=654'>655</a>\u001b[0m flat_structure \u001b[39m=\u001b[39m (flatten(s, expand_composites) \u001b[39mfor\u001b[39;00m s \u001b[39min\u001b[39;00m structure)\n\u001b[1;32m    <a href='file:///home/menz/miniconda3/envs/StixelNet-TF/lib/python3.9/site-packages/tensorflow/python/util/nest.py?line=655'>656</a>\u001b[0m entries \u001b[39m=\u001b[39m \u001b[39mzip\u001b[39m(\u001b[39m*\u001b[39mflat_structure)\n\u001b[1;32m    <a href='file:///home/menz/miniconda3/envs/StixelNet-TF/lib/python3.9/site-packages/tensorflow/python/util/nest.py?line=657'>658</a>\u001b[0m \u001b[39mreturn\u001b[39;00m pack_sequence_as(\n\u001b[0;32m--> <a href='file:///home/menz/miniconda3/envs/StixelNet-TF/lib/python3.9/site-packages/tensorflow/python/util/nest.py?line=658'>659</a>\u001b[0m     structure[\u001b[39m0\u001b[39m], [func(\u001b[39m*\u001b[39;49mx) \u001b[39mfor\u001b[39;00m x \u001b[39min\u001b[39;00m entries],\n\u001b[1;32m    <a href='file:///home/menz/miniconda3/envs/StixelNet-TF/lib/python3.9/site-packages/tensorflow/python/util/nest.py?line=659'>660</a>\u001b[0m     expand_composites\u001b[39m=\u001b[39mexpand_composites)\n",
      "File \u001b[0;32m~/miniconda3/envs/StixelNet-TF/lib/python3.9/site-packages/tensorflow/python/keras/utils/tf_utils.py:510\u001b[0m, in \u001b[0;36mto_numpy_or_python_type.<locals>._to_single_numpy_or_python_type\u001b[0;34m(t)\u001b[0m\n\u001b[1;32m    <a href='file:///home/menz/miniconda3/envs/StixelNet-TF/lib/python3.9/site-packages/tensorflow/python/keras/utils/tf_utils.py?line=507'>508</a>\u001b[0m \u001b[39mdef\u001b[39;00m \u001b[39m_to_single_numpy_or_python_type\u001b[39m(t):\n\u001b[1;32m    <a href='file:///home/menz/miniconda3/envs/StixelNet-TF/lib/python3.9/site-packages/tensorflow/python/keras/utils/tf_utils.py?line=508'>509</a>\u001b[0m   \u001b[39mif\u001b[39;00m \u001b[39misinstance\u001b[39m(t, ops\u001b[39m.\u001b[39mTensor):\n\u001b[0;32m--> <a href='file:///home/menz/miniconda3/envs/StixelNet-TF/lib/python3.9/site-packages/tensorflow/python/keras/utils/tf_utils.py?line=509'>510</a>\u001b[0m     x \u001b[39m=\u001b[39m t\u001b[39m.\u001b[39;49mnumpy()\n\u001b[1;32m    <a href='file:///home/menz/miniconda3/envs/StixelNet-TF/lib/python3.9/site-packages/tensorflow/python/keras/utils/tf_utils.py?line=510'>511</a>\u001b[0m     \u001b[39mreturn\u001b[39;00m x\u001b[39m.\u001b[39mitem() \u001b[39mif\u001b[39;00m np\u001b[39m.\u001b[39mndim(x) \u001b[39m==\u001b[39m \u001b[39m0\u001b[39m \u001b[39melse\u001b[39;00m x\n\u001b[1;32m    <a href='file:///home/menz/miniconda3/envs/StixelNet-TF/lib/python3.9/site-packages/tensorflow/python/keras/utils/tf_utils.py?line=511'>512</a>\u001b[0m   \u001b[39mreturn\u001b[39;00m t\n",
      "File \u001b[0;32m~/miniconda3/envs/StixelNet-TF/lib/python3.9/site-packages/tensorflow/python/framework/ops.py:1071\u001b[0m, in \u001b[0;36m_EagerTensorBase.numpy\u001b[0;34m(self)\u001b[0m\n\u001b[1;32m   <a href='file:///home/menz/miniconda3/envs/StixelNet-TF/lib/python3.9/site-packages/tensorflow/python/framework/ops.py?line=1047'>1048</a>\u001b[0m \u001b[39m\"\"\"Copy of the contents of this Tensor into a NumPy array or scalar.\u001b[39;00m\n\u001b[1;32m   <a href='file:///home/menz/miniconda3/envs/StixelNet-TF/lib/python3.9/site-packages/tensorflow/python/framework/ops.py?line=1048'>1049</a>\u001b[0m \n\u001b[1;32m   <a href='file:///home/menz/miniconda3/envs/StixelNet-TF/lib/python3.9/site-packages/tensorflow/python/framework/ops.py?line=1049'>1050</a>\u001b[0m \u001b[39mUnlike NumPy arrays, Tensors are immutable, so this method has to copy\u001b[39;00m\n\u001b[0;32m   (...)\u001b[0m\n\u001b[1;32m   <a href='file:///home/menz/miniconda3/envs/StixelNet-TF/lib/python3.9/site-packages/tensorflow/python/framework/ops.py?line=1067'>1068</a>\u001b[0m \u001b[39m    NumPy dtype.\u001b[39;00m\n\u001b[1;32m   <a href='file:///home/menz/miniconda3/envs/StixelNet-TF/lib/python3.9/site-packages/tensorflow/python/framework/ops.py?line=1068'>1069</a>\u001b[0m \u001b[39m\"\"\"\u001b[39;00m\n\u001b[1;32m   <a href='file:///home/menz/miniconda3/envs/StixelNet-TF/lib/python3.9/site-packages/tensorflow/python/framework/ops.py?line=1069'>1070</a>\u001b[0m \u001b[39m# TODO(slebedev): Consider avoiding a copy for non-CPU or remote tensors.\u001b[39;00m\n\u001b[0;32m-> <a href='file:///home/menz/miniconda3/envs/StixelNet-TF/lib/python3.9/site-packages/tensorflow/python/framework/ops.py?line=1070'>1071</a>\u001b[0m maybe_arr \u001b[39m=\u001b[39m \u001b[39mself\u001b[39;49m\u001b[39m.\u001b[39;49m_numpy()  \u001b[39m# pylint: disable=protected-access\u001b[39;00m\n\u001b[1;32m   <a href='file:///home/menz/miniconda3/envs/StixelNet-TF/lib/python3.9/site-packages/tensorflow/python/framework/ops.py?line=1071'>1072</a>\u001b[0m \u001b[39mreturn\u001b[39;00m maybe_arr\u001b[39m.\u001b[39mcopy() \u001b[39mif\u001b[39;00m \u001b[39misinstance\u001b[39m(maybe_arr, np\u001b[39m.\u001b[39mndarray) \u001b[39melse\u001b[39;00m maybe_arr\n",
      "File \u001b[0;32m~/miniconda3/envs/StixelNet-TF/lib/python3.9/site-packages/tensorflow/python/framework/ops.py:1037\u001b[0m, in \u001b[0;36m_EagerTensorBase._numpy\u001b[0;34m(self)\u001b[0m\n\u001b[1;32m   <a href='file:///home/menz/miniconda3/envs/StixelNet-TF/lib/python3.9/site-packages/tensorflow/python/framework/ops.py?line=1034'>1035</a>\u001b[0m \u001b[39mdef\u001b[39;00m \u001b[39m_numpy\u001b[39m(\u001b[39mself\u001b[39m):\n\u001b[1;32m   <a href='file:///home/menz/miniconda3/envs/StixelNet-TF/lib/python3.9/site-packages/tensorflow/python/framework/ops.py?line=1035'>1036</a>\u001b[0m   \u001b[39mtry\u001b[39;00m:\n\u001b[0;32m-> <a href='file:///home/menz/miniconda3/envs/StixelNet-TF/lib/python3.9/site-packages/tensorflow/python/framework/ops.py?line=1036'>1037</a>\u001b[0m     \u001b[39mreturn\u001b[39;00m \u001b[39mself\u001b[39;49m\u001b[39m.\u001b[39;49m_numpy_internal()\n\u001b[1;32m   <a href='file:///home/menz/miniconda3/envs/StixelNet-TF/lib/python3.9/site-packages/tensorflow/python/framework/ops.py?line=1037'>1038</a>\u001b[0m   \u001b[39mexcept\u001b[39;00m core\u001b[39m.\u001b[39m_NotOkStatusException \u001b[39mas\u001b[39;00m e:  \u001b[39m# pylint: disable=protected-access\u001b[39;00m\n\u001b[1;32m   <a href='file:///home/menz/miniconda3/envs/StixelNet-TF/lib/python3.9/site-packages/tensorflow/python/framework/ops.py?line=1038'>1039</a>\u001b[0m     six\u001b[39m.\u001b[39mraise_from(core\u001b[39m.\u001b[39m_status_to_exception(e\u001b[39m.\u001b[39mcode, e\u001b[39m.\u001b[39mmessage), \u001b[39mNone\u001b[39;00m)\n",
      "\u001b[0;31mKeyboardInterrupt\u001b[0m: "
     ]
    }
   ],
   "source": [
    "# Training\n",
    "\n",
    "num_epoch = 1000\n",
    "\n",
    "callbacks = [\n",
    "    ModelCheckpoint(\n",
    "        os.path.join(dt_config.SAVED_MODELS_PATH, \"model-{epoch:03d}-{loss:.4f}.h5\"),\n",
    "        monitor=\"val_loss\",\n",
    "        verbose=1,\n",
    "        save_best_only=False,\n",
    "        mode=\"auto\",\n",
    "        save_freq=\"epoch\",\n",
    "    ),    \n",
    "    EarlyStopping(\n",
    "        monitor=\"val_loss\", min_delta=0, patience=10, verbose=0, mode=\"auto\"\n",
    "    ),\n",
    "]\n",
    "\n",
    "\n",
    "history = model.fit(\n",
    "        train_set,       \n",
    "        validation_data=val_set,      \n",
    "        epochs=num_epoch,\n",
    "        callbacks=callbacks,\n",
    "        shuffle=True,\n",
    "    )"
   ]
  }
 ],
 "metadata": {
  "interpreter": {
   "hash": "b4d979c0f2b07a2e75b211ad88b70225581aca2696c1becbd504a70dedd26bf6"
  },
  "kernelspec": {
   "display_name": "Python StixelNet",
   "language": "python",
   "name": "stixelnet"
  },
  "language_info": {
   "codemirror_mode": {
    "name": "ipython",
    "version": 3
   },
   "file_extension": ".py",
   "mimetype": "text/x-python",
   "name": "python",
   "nbconvert_exporter": "python",
   "pygments_lexer": "ipython3",
   "version": "3.8.8"
  }
 },
 "nbformat": 4,
 "nbformat_minor": 5
}
